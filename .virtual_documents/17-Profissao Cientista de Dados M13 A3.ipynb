


#usaremos a biblioteca pandas
import pandas as pd





df = pd.read_csv("ESPORTISTAS_MOD7.csv", delimiter=';')

df.head(10)





## Vamos primeiro entender quais são os esportes que temos quantos jogadores pertecem a cada um deles
df.groupby('Esporte')['Atleta'].count().reset_index().sort_values(by='Atleta', ascending=False)

# Sempre bom relembramos a utilidade de cada passo do nosso código acima que usaremos durante a aula:
# Usamos o group by para agrupar os dados do df pela coluna 'Esporte'
# O count() contar o número de ocorrências da coluna 'Atleta'
# .reset_index() Resetar o índice do resultado anterior
# .sort_values ordenar os resultados do DataFrame pelo número de atletas





# Dessa forma abaixo trazemos a porcentagem de cada esporte
contagem_por_esporte = df['Esporte'].value_counts(normalize=True).reset_index()
contagem_por_esporte











# Criariamos uma variavel chamada soma_ganhos_totais e em seguida aplicamos o SUM para que seja feita a soma da coluna.
soma_ganhos_totais = df['Ganhos_Totais'].sum()
## Em seguida temos que calcular quantos atletas nós temos e para isso usamos o LEN
quantidade_de_registros = len(df['Ganhos_Totais'])
## Para finalizar dividimos a soma da coluna de ganhos pela quantidade de registros de atletas
media_ganhos_totais = soma_ganhos_totais / quantidade_de_registros

print("Média de ganhos totais:", media_ganhos_totais)





df['Ganhos_Totais'].mean()





df.groupby('Esporte')['Ganhos_Totais'].mean().reset_index().sort_values(by='Ganhos_Totais', ascending=False)
#Notem que primeiro realizamos o agrupamento por esporte, aplicando o mean ao meio e ao final fizemos a ordenação.








df['Ganhos_Totais'].median()





df.groupby('Esporte')['Ganhos_Totais'].median().reset_index().sort_values(by='Ganhos_Totais', ascending=False)








df['Ganhos_Totais'].mode()











desvio_padrao_por_esporte = df.groupby('Esporte')['Ganhos_Totais'].std().reset_index()
desvio_padrao_por_esporte














df.describe()



