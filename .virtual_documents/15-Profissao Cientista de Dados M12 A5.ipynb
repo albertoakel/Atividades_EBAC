





import pandas as pd
import numpy as np
import plotly.express as px


# Vamos usar o mesmo dataframe da última aula
idades = np.random.randint(20, 60, 20)
salarios = idades * np.random.randint(80, 120, 20)
pontuacoes = salarios * np.random.uniform(0.5, 1.5, 20)
profissoes = ['Engenheiro', 'Professor', 'Médico', 'Advogado', 'Designer',
              'Analista', 'Gerente', 'Programador']
estado_civil = ['Casado','Solteiro']   #Adicionamos a informação de estado civil


novo_data = {
    'Idade': idades,
    'Salário': salarios,
    'Pontuação': pontuacoes.round(2)
}
df = pd.DataFrame(novo_data)
df['Profissão'] = np.random.choice(profissoes, size=len(df))
df['estado_civil'] = np.random.choice(profissoes, size=len(df))
df.head(10)





# Agrupando os dados do DataFrame por profissão e calculando a média do salário para cada profissão
salario_por_profissao = df.groupby('Profissão')['Salário'].mean().reset_index()

# Criando o gráfico de barras horizontais, muito semelhante a biblioteca matplot
fig = px.bar(salario_por_profissao, x='Salário', y='Profissão', orientation='h',
             title='Salários por Profissão',
             labels={'Salário': 'Salário Médio', 'Profissão': 'Profissão'})

# Exibindo o gráfico
fig.show()






salario_por_profissao = df.groupby('Profissão')['Salário'].mean().reset_index()

fig = px.bar(salario_por_profissao, x='Salário', y='Profissão', orientation='h',
             title='Salários por Profissão',
             labels={'Salário': 'Salário Médio', 'Profissão': 'Profissão'},
             color='Salário',  # Especificando a cor baseada nos valores de salário
             width=800)        # Definindo a largura do gráfico em pixels

fig.show()





# Aqui agrupamos os dados do DataFrame por profissão e estado civil, e calculando a média do salário para cada profissão e estado civil
salario_por_profissao_estado_civil = df.groupby(['Profissão', 'estado_civil'])['Salário'].mean().reset_index()

# Criando o gráfico de treemap com os salários por profissão, usando as cores para representar o estado civil
fig = px.treemap(salario_por_profissao_estado_civil,
                 path=['Profissão', 'estado_civil'],
                 values='Salário',
                 title='Salários por Profissão e Estado Civil',
                 color='estado_civil')
# Exibindo o gráfico
fig.show()





# Criando o boxplot de idade
fig = px.box(df, y='Idade', title='Boxplot de Idade')

# Exibindo o gráfico
fig.show()






