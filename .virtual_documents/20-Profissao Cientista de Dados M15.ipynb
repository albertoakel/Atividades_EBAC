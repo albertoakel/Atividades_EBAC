

















import seaborn as sns
import matplotlib.pyplot as plt
import pandas as pd
import numpy as np


#Agora que já tenho minha base, irei ler ela por aqui!
df = pd.read_csv("CHURN_CREDIT_MOD14_tratado.csv", delimiter=',')


df.head(10)



df.dtypes


df.isnull().sum()








#A função describe é uma excelente função para dar um panorama das nossas variáveis QUANTITATIVAS (numéricas), ela dá uma visão geral
df.describe()














#verificando quantidade de linhas com o dado igual a 0 (relembrando que aula passada notamos que de fato essa variavel não tinha to)
(df['Balanco'] == 0).sum()


(df['Balanco'] == 0).mean() * 100


df.boxplot(column='Balanco')
plt.title('Box Plot da Balanco')
plt.ylabel('Valores')
plt.show()


#nesse trecho do nosso código iremos selecionar os valores da coluna balanco que são diferentes de 0
df_nao_zero = df[df['Balanco'] != 0]
df_nao_zero.boxplot(column='Balanco')
plt.title('Box Plot da Balanco (Valores Diferentes de Zero)')
plt.ylabel('Valores')
plt.show()








df.boxplot(column='Qtd_Produtos')
plt.title('Qtd_Produtos')
plt.ylabel('Valores')
plt.show()








df.boxplot(column='Tempo_Credito')
plt.title('Tempo_Credito')
plt.ylabel('Valores')
plt.show()











# Contagem dos valores da coluna de possui_cartao
contagem_cartao = df['Possui_Cartao'].value_counts()

# Calculando a porcentagem para que apareça no gráfico
porcentagem_cartao = (contagem_cartao / contagem_cartao.sum()) * 100
ax = contagem_cartao.plot(kind='bar')
plt.title('Gráfico de Barras para a Variável Possui_Cartao')
plt.xlabel('Possui Cartão')
plt.ylabel('Frequência')


# Contando as ocorrências
contagem_cartao = df['Possui_Cartao'].value_counts()

# Calculando a porcentagem
(contagem_cartao / contagem_cartao.sum()) * 100





#Membro_Ativo
contagem_membro = df['Membro_Ativo'].value_counts()

porcentagem_membro = (contagem_membro / contagem_membro.sum()) * 100
ax = contagem_membro.plot(kind='bar')
plt.title('Gráfico de Barras para a Variável Membro_Ativo')
plt.xlabel('Membro Ativo')
plt.ylabel('Frequência')


contagem_membro = df['Membro_Ativo'].value_counts()
(contagem_membro / contagem_membro.sum()) * 100











contagem_churn = df['Churn'].value_counts()

porcentagem_churn = (contagem_churn / contagem_churn.sum()) * 100
ax = contagem_churn.plot(kind='bar')
plt.title('Gráfico de Barras para a Variável Churn')
plt.xlabel('Churn')
plt.ylabel('Frequência')


contagem_churn = df['Churn'].value_counts()
(contagem_churn / contagem_churn.sum()) * 100











# Calculando as porcentagens
contagem = df['Pais'].value_counts()
porcentagem = (contagem / contagem.sum()) * 100


ax = contagem.plot(kind='bar')

# Adicionando pora procentagem nas barras
for i, v in enumerate(contagem):
    ax.text(i, v + 1, f'{porcentagem[i]:.2f}%', ha='center')
plt.title('Gráfico de Barras para a Variável Pais')
plt.xlabel('Pais')
plt.ylabel('Frequência')

plt.show()





contagem = df['Genero'].value_counts()
porcentagem = (contagem / contagem.sum()) * 100

ax = contagem.plot(kind='bar')

for i, v in enumerate(contagem):
    ax.text(i, v + 1, f'{porcentagem[i]:.2f}%', ha='center')
plt.title('Gráfico de Barras para a Variável Genero')
plt.xlabel('Genero')
plt.ylabel('Frequência')

plt.show()























import plotly.express as px


df_nao_zero = df[df['Balanco'] != 0]

fig = px.box(df_nao_zero, y='Balanco', title='Box Plot da Balanco (Valores Diferentes de Zero)', labels={'Balanco': 'Valores'})
fig.show()





#visualizando as ocorrencias onde balanco > 1800000
df[df['Balanco'] > 186000]


print("Porcentagem de registros onde 'balanco' > 186000:",
      (len(df[df['Balanco'] > 186000]) / len(df)) * 100)








#Vamos fazer uma cópia do df pois não iremos trabalhar agora com os dados alterados, é apenas uma demonstração:
df_novo = df.copy()

# Abaixo criamos os quartis do boxplot, para remover aqueles que estão nos quartis desejados
Q1 = df_novo['Balanco'].quantile(0.25)
Q3 = df_novo['Balanco'].quantile(0.75)
IQR = Q3 - Q1

limite_inferior = Q1 - 1.5 * IQR
limite_superior = Q3 + 1.5 * IQR

df_sem_outliers = df_novo[(df_novo['Balanco'] >= limite_inferior) & (df_novo['Balanco'] <= limite_superior)]

# Calculando a mediana dos dados sem os valores maiores que 186000
mediana_sem_outliers = df_sem_outliers['Balanco'].median()

# Substituindo os valores maiores que 186000 pela mediana no novo DataFrame
df_novo.loc[df_novo['Balanco'] > 186000, 'Balanco'] = mediana_sem_outliers


df_nao_zero = df[df['Balanco'] != 0]

fig = px.box(df_nao_zero, y='Balanco', title='Box Plot da Balanco (Valores Diferentes de Zero)', labels={'Balanco': 'Valores'})
fig.show()





#Qtd_Produtos
fig = px.box(df, y='Qtd_Produtos', title='Box Plot da Qtde_Produtos', labels={'Qtd_Produtos': 'Valores'})
fig.show()


# Vamos verificar a distribuição das categorias
df['Qtd_Produtos'].value_counts(normalize=True) * 100

















df.head()





fig = px.histogram(df, x='Churn', color='Genero', barmode='stack')

# Layout
fig.update_layout(title='Relação entre Churn e Gênero',
                  xaxis_title='Churn',
                  yaxis_title='Contagem',
                  legend_title='Gênero')
fig.show()


# Calcular a porcentagem de cada categoria
df_grouped = df.groupby(['Churn', 'Genero']).size().reset_index(name='count')
total_por_churn = df_grouped.groupby('Churn')['count'].transform('sum')
df_grouped['percent'] = (df_grouped['count'] / total_por_churn) * 100

# Cria gráfico de barras empilhadas
fig = px.bar(df_grouped, x='Churn', y='percent', color='Genero', barmode='stack',
             labels={'Churn': 'Churn', 'percent': 'Porcentagem', 'Genero': 'Gênero'})

fig.update_layout(title='Relação entre Churn e Gênero',
                  yaxis_title='Porcentagem',
                  legend_title='Gênero')
fig.show()








# Calcular a porcentagem de cada categoria
df_grouped = df.groupby(['Churn', 'Pais']).size().reset_index(name='count')
total_por_churn = df_grouped.groupby('Churn')['count'].transform('sum')
df_grouped['percent'] = (df_grouped['count'] / total_por_churn) * 100

# Cria gráfico de barras empilhadas
fig = px.bar(df_grouped, x='Churn', y='percent', color='Pais', barmode='stack',
             labels={'Churn': 'Churn', 'percent': 'Porcentagem', 'Pais': 'Pais'})

fig.update_layout(title='Relação entre Churn e Pais',
                  yaxis_title='Porcentagem',
                  legend_title='Pais')
fig.show()








# Calculando a mediana de produtos por país
media_produtos_por_pais = df.groupby('Pais')['Qtd_Produtos'].median().reset_index()

# Criar gráfico de barras
fig = px.bar(media_produtos_por_pais, x='Pais', y='Qtd_Produtos',
             title='Média de Produtos por País',
             labels={'Qtd_Produtos': 'Média de Produtos', 'Pais': 'País'})
fig.show()








mediana = df.groupby('Churn')['Idade'].median().reset_index()

# Criar gráfico de barras
fig = px.bar(mediana, x='Churn', y='Idade',
             title='Média Idade Churn')
fig.show()











fig = px.histogram(df, x='Churn', color='Membro_Ativo', barmode='stack')
fig.update_layout(title='Relação entre Churn e Membro Ativo',
                  xaxis_title='Churn',
                  yaxis_title='Contagem',
                  legend_title='Membro_Ativo')
fig.show()





mediana = df.groupby('Churn')['Salario_Anual'].median().reset_index()
fig = px.bar(mediana, x='Churn', y='Salario_Anual',
             title='Média Salario_Anual Churn')
fig.show()











mediana = df.groupby('Pais')['Salario_Anual'].median().reset_index()
fig = px.bar(mediana, x='Pais', y='Salario_Anual',
             title='Média Salario_Anual Pais')
fig.show()





media_salario_por_idade = df.groupby('Idade')['Salario_Anual'].mean().reset_index()

fig = px.line(media_salario_por_idade, x='Idade', y='Salario_Anual',
              title='Relação entre Idade e Média de Salário',
              labels={'Idade': 'Idade', 'Salario_Anual': 'Média de Salário'})

fig.show()






