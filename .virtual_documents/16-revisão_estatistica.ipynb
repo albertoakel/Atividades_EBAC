


import numpy as np
import math as ma
import matplotlib.pyplot as plt
import seaborn as sns
import pandas as pd

x = np.linspace(0, 10, 1000)
mu=5
sig=0.01
k=1/(sig*np.sqrt(2*ma.pi))
y=k*np.exp(-0.5*((x-mu)/sig)**2) 

plt.plot(x,y)

np.mean(y)
np.std(y)






