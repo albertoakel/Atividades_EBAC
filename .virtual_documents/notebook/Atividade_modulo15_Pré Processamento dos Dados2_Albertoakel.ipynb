





import seaborn as sns
import matplotlib.pyplot as plt
import pandas as pd
import numpy as np
import plotly.express as px





df = pd.read_csv("CHURN_TELECON_MOD08_preprocessed.csv", delimiter=',')
df.head(10)





#describe de variaveis numéricas.
df[['Tempo_como_Cliente', 'Pagamento_Mensal', 'Total_Pago']].describe()


#Boxplot
fig, ax = plt.subplots(1, 3, figsize=(15, 5))  # 1 linha, 3 colunas, tamanho da figura

# Plotando os boxplots em cada subplot
df.boxplot(column='Tempo_como_Cliente', ax=ax[0])
df.boxplot(column='Pagamento_Mensal', ax=ax[1])
df.boxplot(column='Total_Pago', ax=ax[2])

# Ajustando os títulos dos subplots
ax[0].set_title('Tempo como Cliente')

ax[1].set_title('Pagamento Mensal')
ax[2].set_title('Total Pago')

# Exibindo os gráficos
plt.tight_layout()
plt.show()








#Seu código aqui





#Seu código aqui
