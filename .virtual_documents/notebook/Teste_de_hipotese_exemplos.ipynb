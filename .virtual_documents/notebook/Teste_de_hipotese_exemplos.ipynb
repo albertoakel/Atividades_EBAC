








#@title Distribuição normal e acumulada
import numpy as np
import math as ma
import matplotlib.pyplot as plt
import seaborn as sns
import pandas as pd
from scipy import stats
#from IPython.display import display, Math
from scipy.stats import norm
from scipy.stats import t as ts

#1)-As médias das notas é significamente diferente de 7?

# Generate data for the normal distribution
x = np.linspace(-4, 4, 1000)
y = norm.pdf(x, 0, 1)

# Calculate the cumulative distribution function
cumulative_y = norm.cdf(x, 0, 1)

# Create subplots
fig, axes = plt.subplots(1, 2, figsize=(12, 4))

# Plot the normal distribution
axes[0].plot(x, y)
axes[0].set_title('Figura 1a: Distribuição Normal')
axes[0].set_xlabel('x')
axes[0].set_xlim(-4,4)
axes[0].set_ylim(0,0.4)


axes[0].set_ylabel('Densidade de Probabilidade')


# Plot the cumulative distribution
axes[1].plot(x, cumulative_y)
axes[1].set_title('Figura 1b: Distribuição Acumulada')
axes[1].set_xlabel('x')
axes[1].set_xlim(-4,4)
axes[1].set_ylim(0,1)


axes[1].set_ylabel('Probabilidade Acumulada')


# Adjust layout for better visualization
plt.tight_layout()
plt.show()






#@title Avaliação dos casos 1, 2 e 3
import numpy as np
import math as ma
import matplotlib.pyplot as plt
import seaborn as sns
import pandas as pd
from scipy import stats
from IPython.display import display, Math
from scipy.stats import norm
from scipy.stats import t as ts

#1)-As médias das notas é significamente diferente de 7?
#Teste t de Student
#Ho as notas tem média 7
#Ha as notas são diferente de 7
notas_0=[6.5, 7.2, 6.8, 7.5, 6.9, 7.1, 6.7, 7.4, 6.6, 7.1];
notas_1=[2, 3, 6.8, 7.5, 5.9, 4.1, 6.7, 7.4, 6.6, 7.1];  # sig menor
notas_2=[9, 7.2, 6.8, 7.5, 9, 7.1, 6.7, 7.4, 9, 7.1];    # sig maior
notas_3=[1, 4, 6.8, 7.5, 2, 7.1, 6.7, 7.4, 4, 5];        # sig diferente
notas=notas_0
muo=7
ho=7


#Calcular média e desvio das amostas
n=len(notas)
x_hat=np.mean(notas)
s=np.std(notas,ddof=1)


t=(x_hat-ho)/(s/np.sqrt(n))
df=n-1

#caso 1
p_valor_e = ts.cdf(t, df)
#caso 2
p_valor_d = 1-ts.cdf(t, df)
#caso 3
p_valorB = 2*ts.cdf(t, df)

p_valor = ts.cdf(t, df)

print('Média               :',x_hat)
print('Desvio padrão       :',s)
print('teste-t             :',t)

print('')

print('p-valor (caso 1)    :',p_valor_e)
if p_valor_e > 0.05:
  print('Não há evidência estatística para concluir que a média das notas é significativamente menor que 7')
else:
  print('Rejeitamos a hipótese nula. Portanto, há evidências estatísticas para concluir que \n a média das notas é significativamente menor que 7')

print('')

print('p-valor (caso 2)    :',p_valor_d)
if p_valor_d > 0.05:
  print('Não há evidência estatística para concluir que a média das notas é significativamente maior que 7')
else:
  print('Rejeitamos a hipótese nula. Portanto, há evidências estatísticas para concluir que \n a média das notas é significativamente maior que 7')

print('')
print('p-valor (caso 3)    :',p_valorB)
if p_valorB > 0.05:
  print('Não há evidência estatística para concluir que a média das notas é significativamente diferente de 7')
else:
  print('Rejeitamos a hipótese nula. Portanto, há evidências estatísticas para concluir que \n a média das notas é significativamente diferente que 7')



#@title Clique para expandir e ver o código oculto

#figura1  P-Valor
x = np.linspace(-4,4,100)
y=stats.t.pdf(x,0,1);
c=ts.cdf(x,df)
fig, ax = plt.subplots(1, figsize=(6, 6))
p_valor=ts.cdf(t, df)

ax.plot(x,c,'r-');
ax.set_title('fig 2 : Relação teste t e P-valor.')
ax.vlines(x=t,ymin=0,ymax=ts.cdf(t,df),color='gray',linestyles='dashed',
     label="mean: {:.1f}".format(t))
ax.hlines(y=p_valor,xmin=-4,xmax=t,color='gray',linestyles='dashed',
     label="mean: {:.1f}".format(t))
ax.set_ylim(0, max(c)*1.01)
ax.set_xlim(-4,4)
#preenchimento da região
condição=(c <= p_valor)
ax.fill_between(x, c,where=condição,color='dodgerblue',alpha=0.8);
ax.set_xlabel('teste estatítico');
ax.set_ylabel('Valor-p');


#@title Quando média é significamente menor
#Figuras com eixos normalizados
notas_1=[2, 3, 6.8, 7.5, 5.9, 4.1, 6.7, 7.4, 6.6, 7.1]; # sig menor
notas=notas_1
n=len(notas)
x_hat=np.mean(notas)
s=np.std(notas,ddof=1)
t=(x_hat-ho)/(s/np.sqrt(n))
df=n-1
p_valor_e = ts.cdf(t, df)

# Intervalo das notas
x_min = min(notas)  # Valor mínimo das notas
x_max = max(notas)  # Valor máximo das notas
x = np.linspace(x_min, x_max, 1000)
alpha=0.05  #confiança
t_critical = ts.ppf(alpha,df)

# Gerar valores da distribuição t de Student  ajustados ao eixo x
fator=(x - x_hat) / (s / np.sqrt(n))
y = ts.pdf(fator , df)  #Distribuição
c=ts.cdf( fator, df)     #Distribuição Acumulada

# Encontrar posições relativos ao valor P e alpha
p_valor=p_valor_e
x_pvalor = x[c <= p_valor]
x_alpha=x[c <= alpha]
x_alpha2=x_hat-(x_hat-x_alpha[-1])


fig, ax = plt.subplots(1, 2, figsize=(10, 5))
ax[0].plot(x, y, label=f"t de Student  (df={df})")
ax[0].set_title('fig3a: Distribuição t de Student ')

# # Preencher a área correspondente ao nível de significância (α = 0.05)
condicao_alpha=(x<=x_alpha[-1])
ax[0].fill_between(x,y,where=condicao_alpha,color='dodgerblue', alpha=0.5,label=f"α = {alpha}")

# Preencher a área correspondente ao p-valor
ax[0].scatter(x_pvalor[-1],y[np.where(x == x_pvalor[-1])[0][0]],marker='*',s=100,color='darkred', label=f"p-valor = {p_valor:.4f}");

#Linha vertical para a média das notas
ax[0].axvline(x_hat, color='gray', linestyle='--', label=f"Média = {x_hat:.2f}")

# # Linha vertical para o valor crítico de t
ax[0].axvline(x_alpha2, color='blue', linestyle=':')

ax[0].set_ylim(0, max(y)*1.01)
ax[0].set_xlim(x_min,x_max)
ax[0].set_xlabel("Valores das notas")
ax[0].set_ylabel("Densidade de probabilidade")
ax[0].legend()
ax[0].grid()

#-------------------------------------------------------------------------------
# Distribuição acumulada
ax[1].plot(x,c,'r-');
ax[1].set_title('fig3b: Distribuição acumulada')
ax[1].vlines(x=x_pvalor[-1],ymin=0,ymax=p_valor,color='red',linestyles='dashed')
ax[1].hlines(y=p_valor,xmin=x_min,xmax=x_pvalor[-1],color='red',linestyles='dashed')
# ax[1].set_ylim(0, max(c)*1.01)
ax[1].set_xlim(x_min,x_max)
# #preenchimento da região

ax[1].fill_between(x, c,where=c <= p_valor,color='tomato', alpha=0.7, label=f"p-valor = {p_valor:.4f}");
ax[1].fill_between(x, c,where=c <= alpha,color='royalblue', alpha=0.8, label=f"α = {alpha}")

ax[1].set_ylim(0, max(c)*1.01)
# ax[1].set_xlabel('teste estatítico');
# ax[1].set_ylabel('Valor-p');
ax[1].legend()
ax[1].grid(True, which='major', linestyle='-', linewidth=0.5, color='black')
ax[1].grid(True, which='minor', linestyle=':', linewidth=0.5, color='gray')
ax[1].minorticks_on()



#@title Quando média é significamente maior

notas_2=[9, 7.2, 6.8, 7.5, 9, 7.1, 6.7, 7.4, 9, 7.1];  #sig maior
notas=notas_2
n=len(notas)
x_hat=np.mean(notas)
s=np.std(notas,ddof=1)
t=(x_hat-ho)/(s/np.sqrt(n))
df=n-1
p_valor_d = 1-ts.cdf(t, df)

# Intervalo das notas
x_min = min(notas)  # Valor mínimo das notas
x_max = max(notas)  # Valor máximo das notas
x = np.linspace(x_min, x_max, 1000)
alpha=0.05  #confiança
t_critical = ts.ppf(alpha,df)

# Gerar valores da distribuição t de Student  ajustados ao eixo x
fator=(x - x_hat) / (s / np.sqrt(n))
y = ts.pdf(fator , df)  #Distribuição
c=ts.cdf( fator, df)     #Distribuição Acumulada

# Encontrar posições relativos ao valor P e alpha
p_valor=p_valor_d
x_pvalor = x[c <= p_valor]
x_alpha=x[c <= alpha]

x_alpha2=x_hat+(x_hat-x_alpha[-1])

x_pvalor2=x_hat+(x_hat-x_pvalor[-1])

fig, ax = plt.subplots(1, 2, figsize=(10, 5))
ax[0].plot(x, y, label=f"t de Student  (df={df})")
ax[0].set_title('fig4a: Distribuição t de Student ')

#x_pvalor=x[x <= x_hat + t * (s / np.sqrt(n))]
#x_alpha = x[x <= x_hat + t_critical * (s / np.sqrt(n))]
# # Preencher a área correspondente ao nível de significância (α = 0.05)
condicao_alpha=(x>=x_alpha2)
ax[0].fill_between(x,y,where=condicao_alpha,color='dodgerblue', alpha=0.5,label=f"α = {alpha}")
# Preencher a área correspondente ao p-valor
ax[0].scatter(x_pvalor2,y[np.where(x == x_pvalor[-1])[0][0]],marker='*',s=100,color='darkred', alpha=1, label=f"p-valor = {p_valor:.4f}");


#Linha vertical para a média das notas
ax[0].axvline(x_hat, color='gray', linestyle='--', label=f"Média = {x_hat:.2f}")

# # Linha vertical para o valor crítico de t
t_critical_x = x_hat + t_critical * (s / np.sqrt(n))
ax[0].axvline(x_alpha2, color='blue', linestyle=':')


# # Configurações do gráfico
ax[0].set_ylim(0, max(y)*1.01)
ax[0].set_xlim(x_min,x_max)
ax[0].set_title("Distribuição t de Student  ")
ax[0].set_xlabel("Valores das notas")
ax[0].set_ylabel("Densidade de probabilidade")
ax[0].legend()
ax[0].grid()

#-------------------------------------------------------------------------------
# Distribuição acumulada
ax[1].plot(x,c,'r-');
ax[1].set_title('fig4b: Distribuição acumulada')
ax[1].vlines(x=x_pvalor[-1],ymin=0,ymax=p_valor,color='red',linestyles='dashed')
ax[1].hlines(y=p_valor,xmin=x_min,xmax=x_pvalor[-1],color='red',linestyles='dashed')
# ax[1].set_ylim(0, max(c)*1.01)
ax[1].set_xlim(x_min,x_max)
# #preenchimento da região

ax[1].fill_between(x, c,where=c <= p_valor,color='tomato', alpha=0.7, label=f"p-valor = {p_valor:.4f}");
ax[1].fill_between(x, c,where=c <= alpha,color='blue', alpha=0.8, label=f"α = {alpha}")

ax[1].set_ylim(0, max(c)*1.01)
# ax[1].set_xlabel('teste estatítico');
# ax[1].set_ylabel('Valor-p');
ax[1].legend()
ax[1].grid(True, which='major', linestyle='-', linewidth=0.5, color='black')
ax[1].grid(True, which='minor', linestyle=':', linewidth=0.5, color='gray')
ax[1].minorticks_on()



#@title Quando média é significamente diferente

notas_3=[1, 4, 6.8, 7.5, 2, 7.1, 6.7, 7.4, 4, 5];  #sig diferente
notas=notas_3
n=len(notas)
x_hat=np.mean(notas)
s=np.std(notas,ddof=1)
t=(x_hat-ho)/(s/np.sqrt(n))
df=n-1

p_valor_e = ts.cdf(t, df)   #a esquerda
p_valor_d = 1-ts.cdf(t, df) #a direita
if p_valor_e < p_valor_d:
  p_valorB=2*p_valor_e
else:
  p_valorB=2*p_valor_d



# Intervalo das notas
x_min = min(notas)  # Valor mínimo das notas
x_max = max(notas)  # Valor máximo das notas
x = np.linspace(x_min, x_max, 1000)
alpha=0.05/2  #confiança
t_critical = ts.ppf(alpha,df)

# Gerar valores da distribuição t de Student ent  ajustados ao eixo x
fator=(x - x_hat) / (s / np.sqrt(n))
y = ts.pdf(fator , df)   #Distribuição
c=ts.cdf( fator, df)     #Distribuição Acumulada

# Encontrar posições relativos ao valor P e alpha
p_valor=p_valorB
x_pvalor = x[c <= p_valor]
x_alpha=x[c <= alpha]

id=np.where(x<=x_alpha[-1])
temp=id[0][-1]
y_alpha=y[temp]

id=np.where(x<=x_alpha[-1])
temp=id[0][-1]
y_alpha=y[temp]


fig, ax = plt.subplots(1, 2, figsize=(12, 6))

ax[0].plot(x, y, label=f"t de Student  (df={df})")
ax[0].set_title('fig5a: Distribuição t de Student ')

# Preencher a área correspondente ao p-valor
condicao_pvalor=(x<=x_pvalor[-1])
#ax[0].fill_between(x, y,where=(x<=x_pvalor[-1]),color='darkred', alpha=0.4, label=f"p-valor = {p_valor:.4f}");
ax[0].scatter(x_pvalor[-1],y[np.where(x == x_pvalor[-1])[0][0]],marker='*',s=100,color='darkred', label=f"p-valor = {p_valor:.4f}");


# # Preencher a área correspondente ao nível de significância (α = 0.05)

condicao_alpha=(y<=y_alpha)
ax[0].fill_between(x,y,where=condicao_alpha,color='dodgerblue', alpha=0.5,label=f"α/2 = {alpha}")


#Linha vertical para a média das notas
ax[0].axvline(x_hat, color='gray', linestyle='--', label=f"Média = {x_hat:.2f}")

# # Linha vertical para o valor crítico de t
t_critical_x = x_hat + t_critical * (s / np.sqrt(n))
ax[0].axvline(x_alpha[-1], color='blue', linestyle=':', label=f"t crítico = {t_critical:.2f}")
x_alpha2=x_hat+(x_hat-x_alpha[-1])
ax[0].axvline(x_alpha2, color='blue', linestyle=':')


# # Configurações do gráfico

ax[0].set_ylim(0, max(y)*1.01)
ax[0].set_xlim(x_min,x_max)
ax[0].set_title("Distribuição t de Student  ")
ax[0].set_xlabel("Valores das notas")
ax[0].set_ylabel("Densidade de probabilidade")
ax[0].legend()
ax[0].grid()

# Distribuição acumulada
ax[1].plot(x,c,'r-');
ax[1].set_title('fig5b: Distribuição acumulada')
ax[1].vlines(x=x_pvalor[-1],ymin=0,ymax=p_valor,color='red',linestyles='dashed')
ax[1].hlines(y=p_valor,xmin=x_min,xmax=x_pvalor[-1],color='red',linestyles='dashed')
# ax[1].set_ylim(0, max(c)*1.01)
ax[1].set_xlim(x_min,x_max)
# #preenchimento da região


ax[1].fill_between(x, c,where=c <= p_valor,color='tomato', alpha=0.7, label=f"p-valor = {p_valor:.4f}");
ax[1].fill_between(x, c,where=c <= 2*alpha,color='blue', alpha=0.8, label=f"α = {2*alpha}")

ax[1].set_ylim(0, max(c)*1.01)
# ax[1].set_xlabel('teste estatítico');
# ax[1].set_ylabel('Valor-p');
ax[1].legend()
ax[1].grid(True, which='major', linestyle='-', linewidth=0.5, color='black')
ax[1].grid(True, which='minor', linestyle=':', linewidth=0.5, color='gray')
ax[1].minorticks_on()


#@title Comparação curva normal e t de Student
x = np.linspace(-3,3,1000)
df=1
yt1=ts.pdf(x,1)   # distribuição t de Student
yt5=ts.pdf(x,5)   # distribuição t de Student
yt10=ts.pdf(x,10)   # distribuição t de Student
yt20=ts.pdf(x,20)   # distribuição t de Student
yt30=ts.pdf(x,30)



yn=norm.pdf(x)   # distribuição normal
plt.plot(x,yn,'k',label='distribuição normal')

plt.plot(x,yt1,'b--',label='distribuição t de Student  df=1')
plt.plot(x,yt5,'g--',label='distribuição t de Student  df=5')
plt.plot(x,yt10,'m--',label='distribuição t de Student  df=10')
plt.plot(x,yt20,'r--',label='distribuição t de Student  df=20')
plt.plot(x,yt30,'y--',label='distribuição t de Student  df=30')
plt.legend()




