





import seaborn as sns
import matplotlib.pyplot as plt
import pandas as pd



#Lembrem-se sempre de alterar a importação dos dados de acordo com o diretório de vocês.
df = pd.read_csv("CHURN_TELECON_MOD08_TAREFA.csv", delimiter=';')
df





df = df.replace({'Yes': 1, 'No': 0})





#valores percentuais de dados faltantes
print(f"{'Categoria':<20} {'Percentual(%)':>5}")
print("-" * 34)
print((df.isnull().sum()/len(df))*100)





#removendo linhas nulas em churn e Genero
df.dropna(subset=['Churn', 'Genero'],inplace=True)
#verificando
print(df.isnull().sum())





df['Churn'] = df['Churn'].astype(int)
#print(df['Pagamento_Mensal'].describe())


print(df['PhoneService'].value_counts())

df_phone0 = df[df['PhoneService'] ==0] #86
df_phone1 = df[df['PhoneService'] ==1] 

len(df)
#df_phone0








#seu código aqui



