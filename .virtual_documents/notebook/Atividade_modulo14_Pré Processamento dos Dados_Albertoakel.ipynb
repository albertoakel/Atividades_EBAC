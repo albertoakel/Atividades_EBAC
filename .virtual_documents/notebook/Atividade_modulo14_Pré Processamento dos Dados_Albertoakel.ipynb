





import seaborn as sns
import matplotlib.pyplot as plt
import pandas as pd



#Lembrem-se sempre de alterar a importação dos dados de acordo com o diretório de vocês.
df = pd.read_csv("CHURN_TELECON_MOD08_TAREFA.csv", delimiter=';')
df





df = df.replace({'Yes': 1, 'No': 0})
df





#valores percentuais de dados faltantes
print(f"{'Categoria':<20} {'Percentual(%)':>5}")
print("-" * 34)
print((df.isnull().sum()/len(df))*100)





#removendo linhas nulas em churn e Genero
df.dropna(subset=['Churn', 'Genero'],inplace=True)
#verificando
print(df.isnull().sum())
df['Churn'] = df['Churn'].astype(int)






df['Pagamento_Mensal'].info()









# plt.figure(figsize=(8, 6))
# sns.boxplot(data=df, y='Pagamento_Mensal', color='skyblue')
# plt.title('Boxplot da Coluna de Salário')
# plt.ylabel('Salario_Anual')
# plt.show()


# sns.set_style('darkgrid')
# plt.figure(figsize=(10, 6))
# sns.histplot(x='Pagamento_Mensal',data=df, bins=20)
# plt.title('Histograma da Coluna de Salário')
# plt.xlabel('Salario_Anual')
# plt.ylabel('Contagem')
# plt.show()


x,y,p=plt.hist(df['Pagamento_Mensal'], bins=30)
plt.title('Distribuição de Pagamento Mensal')
plt.xlabel('Pagamento Mensal')
plt.ylabel('Frequência')
plt.show()
print(df['Pagamento_Mensal'].describe())
df2 = df[df['Pagamento_Mensal'] > 29]

plt.hist(df2['Pagamento_Mensal'], bins=30)
plt.title('Distribuição de Pagamento Mensal')
plt.xlabel('Pagamento Mensal')
plt.ylabel('Frequência')
plt.show()
print(df2['Pagamento_Mensal'].describe())



print(df['PhoneService'].value_counts())

df_phone0 = df[df['PhoneService'] ==0] #86
df_phone1 = df[df['PhoneService'] ==1] 

len(df)
#df_phone0





#seu código aqui






