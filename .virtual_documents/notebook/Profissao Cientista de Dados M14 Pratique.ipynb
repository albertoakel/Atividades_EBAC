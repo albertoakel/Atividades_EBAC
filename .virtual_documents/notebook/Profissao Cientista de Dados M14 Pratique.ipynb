





import seaborn as sns
import matplotlib.pyplot as plt
import pandas as pd


#Lembrem-se sempre de alterar a importação dos dados de acordo com o diretório de vocês.
df = pd.read_csv("CHURN_TELECON_MOD08_TAREFA.csv", delimiter=';')

df.head(10)








#seu código aqui





#seu código aqui





#seu código aqui











#seu código aqui





#seu código aqui



