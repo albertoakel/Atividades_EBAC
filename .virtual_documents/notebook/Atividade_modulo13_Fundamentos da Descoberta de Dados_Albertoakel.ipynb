





import pandas as pd
import numpy as np
import matplotlib.pyplot as plt
import plotly.express as px
df = pd.read_csv("MODULO7_PROJETOFINAL_BASE_SUPERMERCADO.csv", delimiter=',')



#dimensão 1107x7
#valores unicos 1065
n_cat=df['Categoria'].nunique() # 7 categorias
L_cat=df['Categoria'].unique()  # 
print(df.dtypes)
#df.head(25)
#df.info()


#criar categoria preco vendido
#preço normal Ou preco com desconto serão incluidas
df['Preco_Padrao'] = 0.0
df['Preco_Promo'] = 0.0

for i in df.index:
     if df.loc[i,'Preco_Normal'] != 0:
         df.loc[i, 'Preco_Padrao'] = df.loc[i, 'Preco_Normal']
         df.loc[i, 'Preco_Promo'] = df.loc[i, 'Preco_Normal']  
     else:
         df.loc[i, 'Preco_Padrao'] = df.loc[i, 'Preco_Anterior']
         df.loc[i, 'Preco_Promo'] = df.loc[i, 'Preco_Desconto']  
df





##resumo preco promocional/categoria

#estatisticas_por_categoria

md_cat_p =df.groupby('Categoria')['Preco_Padrao'].mean()
mdn_cat_p=df.groupby('Categoria')['Preco_Padrao'].median()
std_cat_p=df.groupby('Categoria')['Preco_Padrao'].std()

resumo_padrao = pd.concat([md_cat_p, mdn_cat_p,std_cat_p], axis=1, keys=['media', 'mediana','desvio'])

#dif=abs(md_cat_p-mdn_cat_p)
dif = []
resumo_padrao['diferenca']=0.0
# Loop sobre os 7 elementos
for i in resumo_padrao.index:
    a=float(resumo_padrao.loc[i,'media'] )
    b=float(resumo_padrao.loc[i,'mediana'])
    if a > b:
        resumo_padrao.loc[i,'diferenca']=abs(a - b) / a
        #dif.append(abs(a - b) / a)
    else:
        resumo_padrao.loc[i,'diferenca']=abs(b - b) / a       
print(resumo_padrao)



#resumo preco promo/categoria
md_cat_p =df.groupby('Categoria')['Preco_Promo'].mean()
mdn_cat_p=df.groupby('Categoria')['Preco_Promo'].median()
std_cat_p=df.groupby('Categoria')['Preco_Promo'].std()

resumo_promo = pd.concat([md_cat_p, mdn_cat_p,std_cat_p], axis=1, keys=['media', 'mediana','desvio'])

#dif=abs(md_cat_p-mdn_cat_p)
dif = []
resumo_promo['diferenca']=0.0
# Loop sobre os 7 elementos
for i in resumo_promo.index:
    a=float(resumo_promo.loc[i,'media'] )
    b=float(resumo_promo.loc[i,'mediana'])
    if a > b:
        resumo_promo.loc[i,'diferenca']=abs(a - b) / a
    else:
        resumo_promo.loc[i,'diferenca']=abs(b - a) / a       
print(resumo_promo)


resumo_precos = pd.concat([resumo_padrao['media'],resumo_promo['media'],
                           resumo_padrao['mediana'],resumo_promo['mediana'],
                           resumo_padrao['desvio'],resumo_promo['desvio'],
                           resumo_padrao['diferenca'],resumo_promo['diferenca']],
                          axis=1, keys=['media_padrao', 'media_promo',
                                          'mediana_padrao', 'mediana_promo',
                                          'STD_padrao','STD_promo',
                                          'diff_padrao','diff_promo'])
resumo_precos

#markdown_table = resumo_precos.to_markdown()
#print(markdown_table)



# #listagem_de_preços_categorias
# belleza_cuidado    = df[df['Categoria'] == resumo_preco.index[0]]
# comidas_preparadas = df[df['Categoria'] == resumo_preco.index[1]]
# congelados         = df[df['Categoria'] == resumo_preco.index[2]]
# frutas             = df[df['Categoria'] == resumo_preco.index[3]]
# instantaneos       = df[df['Categoria'] == resumo_preco.index[4]]
# lacteos            = df[df['Categoria'] == resumo_preco.index[5]]
# verduras           = df[df['Categoria'] == resumo_preco.index[6]]


plt.hist(lacteos['Preco_Padrao'], bins=15, alpha=0.5, label='Preco_Padrao')
plt.hist(lacteos['Preco_Promo'], bins=15, alpha=0.5, label='Preco_Promo')
plt.legend()








