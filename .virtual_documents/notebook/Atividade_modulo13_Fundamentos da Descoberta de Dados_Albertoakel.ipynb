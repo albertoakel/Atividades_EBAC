





import pandas as pd
import numpy as np
import matplotlib.pyplot as plt
import plotly.express as px
df = pd.read_csv("MODULO7_PROJETOFINAL_BASE_SUPERMERCADO.csv", delimiter=',')
dfrd= df.sample(n=10, random_state=43)
dfrd.head(10)





#dimensão 1107x7
#valores unicos 1065
n_cat=df['Categoria'].nunique() # 7 categorias
L_cat=df['Categoria'].unique()  # 
#print(df.dtypes)
#df.head(25)


S_da=S_n=S_d=S_a=S_o=0
'''
unicas possibilidade de preço encontradas nos dados.
cond1: Desconto + preço antigo
cond2: preço normal  
cond3: Desconto

'''
for i in df.index:
    cond1 = (df.loc[i, 'Preco_Normal'] == 0) & (df.loc[i, 'Preco_Desconto'] != 0) & (df.loc[i, 'Preco_Anterior'] != 0)
    cond2 = (df.loc[i, 'Preco_Normal'] != 0) & (df.loc[i, 'Preco_Desconto'] == 0) & (df.loc[i, 'Preco_Anterior'] == 0)
    cond3 = (df.loc[i,'Preco_Normal'] == 0 )&  (df.loc[i,'Preco_Desconto']!=0)&  (df.loc[i,'Preco_Anterior']==0)  

    if(df.loc[i,'Preco_Normal'] != 0 ) and (df.loc[i,'Preco_Desconto']!=0)and (df.loc[i,'Preco_Anterior']!=0):
        print(i,'3 Precos')
    elif(df.loc[i,'Preco_Normal'] != 0 )and  (df.loc[i,'Preco_Desconto']!=0)and  (df.loc[i,'Preco_Anterior']==0):
        print(i,'Normal e Desconto')
    if cond1: 
        S_da+=1
    if cond2:
        S_n+=1
    if cond3 :
        S_d+=1
    elif(df.loc[i,'Preco_Normal'] == 0 )and  (df.loc[i,'Preco_Desconto']==0)and  (df.loc[i,'Preco_Anterior']!=0):
        S_a+=1
    elif(df.loc[i,'Preco_Normal'] == 0 )and  (df.loc[i,'Preco_Desconto']==0)and  (df.loc[i,'Preco_Anterior']==0):
       S_o+=1
        
print('Desconto & anterior :',S_da) 
print('Só preço Normal     :',S_n)
print('Só com Desconto     :',S_d)
print('Sem Preço    :',S_o)
print('Só anterior   :',S_a)

#Remover linhas onde não há preço
df.drop(df[(df['Preco_Normal'] == 0) & (df['Preco_Desconto'] == 0) & (df['Preco_Anterior'] == 0)].index, inplace=True)


#criar categoria preco vendido
#preço normal Ou preco com desconto serão incluidas
df['Preco_Padrao'] = 0.0
df['Preco_Promo'] = 0.0

for i in df.index:
    cond1 = (df.loc[i, 'Preco_Normal'] == 0) & (df.loc[i, 'Preco_Desconto'] != 0) & (df.loc[i, 'Preco_Anterior'] != 0)
    cond2 = (df.loc[i, 'Preco_Normal'] != 0) & (df.loc[i, 'Preco_Desconto'] == 0) & (df.loc[i, 'Preco_Anterior'] == 0)
    cond3 = (df.loc[i,'Preco_Normal'] == 0 )&  (df.loc[i,'Preco_Desconto']!=0)&  (df.loc[i,'Preco_Anterior']==0)
    if cond1:
         df.loc[i, 'Preco_Padrao'] = df.loc[i, 'Preco_Anterior']
         df.loc[i, 'Preco_Promo'] = df.loc[i, 'Preco_Desconto']  
    if cond2:
         df.loc[i, 'Preco_Padrao'] = df.loc[i, 'Preco_Normal']
         df.loc[i, 'Preco_Promo'] = df.loc[i, 'Preco_Normal']  
    if cond3:
         df.loc[i, 'Preco_Padrao'] = df.loc[i, 'Preco_Desconto']
         df.loc[i, 'Preco_Promo'] = df.loc[i, 'Preco_Desconto']  





##resumo preco padrão/categoria
#média,mediana,std
md_cat_p =df.groupby('Categoria')['Preco_Padrao'].mean()
mdn_cat_p=df.groupby('Categoria')['Preco_Padrao'].median()
std_cat_p=df.groupby('Categoria')['Preco_Padrao'].std()

resumo_padrao = pd.concat([md_cat_p, mdn_cat_p,std_cat_p], axis=1, keys=['media', 'mediana','desvio'])

#dif=abs(md_cat_p-mdn_cat_p)
dif = []
resumo_padrao['diferenca']=0.0
# Loop sobre os 7 elementos
for i in resumo_padrao.index:
    a=float(resumo_padrao.loc[i,'media'] )
    b=float(resumo_padrao.loc[i,'mediana'])
    if a > b:
        resumo_padrao.loc[i,'diferenca']=abs(a - b) / a
        #dif.append(abs(a - b) / a)
    else:
        resumo_padrao.loc[i,'diferenca']=abs(b - a) / b       
#print(resumo_padrao)


#resumo preco promo/categoria
#média,mediana,std

md_cat_p =df.groupby('Categoria')['Preco_Promo'].mean()
mdn_cat_p=df.groupby('Categoria')['Preco_Promo'].median()
std_cat_p=df.groupby('Categoria')['Preco_Promo'].std()

resumo_promo = pd.concat([md_cat_p, mdn_cat_p,std_cat_p], axis=1, keys=['media', 'mediana','desvio'])

#dif=abs(md_cat_p-mdn_cat_p)
dif = []
resumo_promo['diferenca']=0.0
# Loop sobre os 7 elementos
for i in resumo_promo.index:
    a=float(resumo_promo.loc[i,'media'] )
    b=float(resumo_promo.loc[i,'mediana'])
    if a > b:
        resumo_promo.loc[i,'diferenca']=abs(a - b) / a
    else:
        resumo_promo.loc[i,'diferenca']=abs(b - a) / b      
#print(resumo_promo)


#resumo_precos_geral
resumo_precos = pd.concat([resumo_padrao['media'],resumo_padrao['mediana'],resumo_padrao['diferenca'],resumo_padrao['desvio'],
                           resumo_promo['media'],resumo_promo['mediana'],resumo_promo['diferenca'],resumo_promo['desvio']],
                           axis=1, keys=['media_padrao', 'mediana_padrao',
                                        'diferenca_padrao', 'STD_padrao',
                                          'media_promo','mediana_promo',
                                          'diferenca_promo','STD_promo'])
resumo_precos
#markdown_table = resumo_precos.to_markdown()
#print(markdown_table)








lac = df[df["Categoria"] == "lacteos"][["title", "Preco_Padrao","Preco_Promo"]]

#box_plot
fig = px.box(lac, y='Preco_Padrao', title='Boxplot preço Padrão')

fig.update_layout(
    xaxis_title="Eixo X",
    yaxis_title="Preço Padrão",
    title={
        'text': "Boxplot do Preço Padrão",
        'y': 0.95,
        'x': 0.5,
        'xanchor': 'center',
        'yanchor': 'top',
        'font': {'size': 20, 'family': 'Arial', 'color': 'blue'}
    },
    width=400,
    height=600
)

fig.update_traces(
    marker_color='rgb(107, 174, 214)',  # Cor das caixas
    line_color='rgb(8, 81, 156)',  # Cor das bordas das caixas
    marker=dict(size=5, color='red'),  # Cor e tamanho dos outliers
    line=dict(width=2)  # Espessura das bordas
)
fig.show()
# Exibindo o gráfico
lac.describe()





#Observação
'''
Como criamos duas novas colunas para estabelecer o que é preco padrão e o que é preço promocional. 
recalculamos o desconto em uma nova coluna, chamada desconto2. Além disso, adcionamos uma nova coluna, desconto P
onde o valor é dado percentualmente.
'''

df['Desconto2']=df['Preco_Padrao']-df['Preco_Promo']  # Desconto2 
df['DescontoP']=(1-df['Preco_Promo']/df['Preco_Padrao'])*100 # Desconto percentual

d_med=df.groupby('Categoria')['Desconto2'].mean().reset_index()

plt.figure(figsize=(14, 5))  # Define o tamanho da figura

plt.bar(d_med['Categoria'], d_med['Desconto2'], color='orange')

plt.title('Descontos Médios por Categoria', fontsize=16)
plt.xlabel('Categoria', fontsize=12)
plt.ylabel('Desconto Médio', fontsize=12)

plt.xticks(rotation=45, ha='right') 
# Adicionar valores nas barras
for i, valor in enumerate(d_med['Desconto2']):
    plt.text(i, valor , f'{valor:.2f}', ha='center', va='bottom', fontsize=10)

# Exibir o gráfico
plt.show()








#Os dados no mapa são apresentados em valores percentuais de desconto.

media_d_marcaxcategoria= df.groupby(['Categoria','Marca'])['DescontoP'].mean().round(1).reset_index()

# # Criando o gráfico de treemap com os salários por profissão, usando as cores para representar o estado civil
fig = px.treemap(media_d_marcaxcategoria,
                  path=['Categoria','Marca'],
                  values='DescontoP',
                  title='Desconto por Categoria e Marca',
                  color='Marca',
                color_discrete_sequence=px.colors.qualitative.Vivid,
                labels={'DescontoP': 'Desconto Médio'}
)
fig.show()





#Calculo dos quartiles
def print_quart(cat):
    temp=df[df["Categoria"] == cat][["title", "Preco_Padrao","Preco_Promo"]]
    Q1 = temp['Preco_Padrao'].quantile(0.25)
    Q3 = temp['Preco_Padrao'].quantile(0.75)
    IQR=Q3-Q1
    C=1.5
    limite_inferior=Q1-C*IQR
    limite_superior=Q3+C*IQR
    print(f"{cat:<30} {limite_inferior:>15.2f} {limite_superior:>17.2f}")

print(f"{'Categoria':<30} {'limite inferior':>15} {'limite superior':>17}")
print("-" * 64)
print_quart('belleza-y-cuidado-personal')
print_quart('comidas-preparadas')
print_quart('congelados')
print_quart('frutas')
print_quart('instantaneos-y-sopas')
print_quart('lacteos')
print_quart('verduras')



