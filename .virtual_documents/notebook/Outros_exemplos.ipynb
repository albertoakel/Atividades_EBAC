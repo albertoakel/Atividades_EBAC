





import numpy as np
from scipy.stats import t as ts

from scipy.stats import ttest_ind

#H0:As médias das duas amostras são iguais( mu1=mu2)

amostra1 = [22, 25, 30, 35, 40, 45, 50]
amostra2 = [18, 20, 25, 30, 35, 40, 45]

#passo-a-passo
X1=np.mean(amostra1)
X2=np.mean(amostra2)

#calculo variancias
var1 = np.var(amostra1, ddof=1)  # ddof=1 para variância amostral
var2 = np.var(amostra2, ddof=1)

n1=len(amostra1) 
n2=len(amostra2) 
# Cálculo do erro padrão
SE = np.sqrt(var1 /n1+ var2 /n2)
t=(X1-X2)/SE


#calculo_pvalor
#fórmula de Welch para graus de liberdade
df = ((var1/n1 + var2/n2) ** 2) / ((var1/n1) ** 2 / (n1 - 1) + (var2/n2) ** 2 / (n2 - 1))

#pvalor=2*ts.cdf(t, df)

#pvalor = 2 * (1 - ts.cdf(abs(t), df))

#print(pvalor)

#ou forma simplificada
estatistica_t, valor_p = ttest_ind(amostra1, amostra2,equal_var=False)
# Interpretação
alpha = 0.05
if valor_p < alpha:
    print("Rejeitamos a hipótese nula (há diferença significativa entre as médias).")
else:
    print('Não rejeitamos a hipótese nula (não há diferença significativa entre as média')


import numpy as np
from scipy.stats import norm
import matplotlib.pyplot as plt 

mu=32  #média da populacao
var=0.81 #variancao
sig=np.sqrt(var) #std
xo=34 #dado observado (amostra)
probabilidade = round(norm.cdf(xo, mu, sig),4)


x=np.linspace(mu-4*sig,mu+4*sig,1000)
y=norm.pdf(x,mu,sig)
fig, ax = plt.subplots(1, figsize=(6, 6))

ax.plot(x, y, label=f"Distribuicao Normal")
ax.axvline(mu,0,2*max(y),color='gray', linestyle='--', label=f"Média = {mu:.2f}")


condicao=(x<=xo)
ax.fill_between(x,y,where=condicao,color='dodgerblue', alpha=0.5,label=f"P<{xo:.2f}")
ax.scatter(x=xo,y=0,color='orange',label="Observação: {:.1f}".format(xo))

ax.set_xlim([mu-4*sig,mu+4*sig])
ax.set_ylim([0,0.5])

ax.text(29, 0.4, 'Probabilidade :'+str(probabilidade), fontsize=10)  # Texto simples
ax.annotate(str(xo)+' anos', xy=(xo, 0.01), xytext=(xo-1, 0.1),arrowprops=dict(facecolor="black", shrink=0.05)) 

ax.set_xlabel('Idade')
ax.legend()
plt.show()




