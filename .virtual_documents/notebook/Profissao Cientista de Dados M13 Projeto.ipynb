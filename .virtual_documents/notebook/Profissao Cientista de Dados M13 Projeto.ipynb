





import pandas as pd
import matplotlib.pyplot as plt
import plotly.express as px





df = pd.read_csv("MODULO7_PROJETOFINAL_BASE_SUPERMERCADO.csv", delimiter=';')

df.head(10)








#Seu código aqui para a média



#Seu código aqui para a mediana









#Seu código aqui












#Seu código aqui






# Seu código aqui






# Seu código aqui

