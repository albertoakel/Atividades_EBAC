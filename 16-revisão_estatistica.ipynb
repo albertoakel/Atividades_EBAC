{
 "cells": [
  {
   "cell_type": "markdown",
   "id": "6e1a96d1",
   "metadata": {},
   "source": [
    "## Revisão estatistica"
   ]
  },
  {
   "cell_type": "code",
   "execution_count": 37,
   "id": "9214ce23",
   "metadata": {},
   "outputs": [
    {
     "data": {
      "text/plain": [
       "1.6756639359405308"
      ]
     },
     "execution_count": 37,
     "metadata": {},
     "output_type": "execute_result"
    },
    {
     "data": {
      "image/png": "[encoded data removed]",
      "text/plain": [
       "<Figure size 432x288 with 1 Axes>"
      ]
     },
     "metadata": {
      "needs_background": "light"
     },
     "output_type": "display_data"
    }
   ],
   "source": [
    "import numpy as np\n",
    "import math as ma\n",
    "import matplotlib.pyplot as plt\n",
    "import seaborn as sns\n",
    "import pandas as pd\n",
    "\n",
    "x = np.linspace(0, 10, 1000)\n",
    "mu=5\n",
    "sig=0.01\n",
    "k=1/(sig*np.sqrt(2*ma.pi))\n",
    "y=k*np.exp(-0.5*((x-mu)/sig)**2) \n",
    "\n",
    "plt.plot(x,y)\n",
    "\n",
    "np.mean(y)\n",
    "np.std(y)"
   ]
  },
  {
   "cell_type": "markdown",
   "id": "ecd57c5b",
   "metadata": {},
   "source": [
    "## Distribuição Normal\n",
    "\n",
    "A função de densidade de probabilidade (FDP) da distribuição normal é definida como:\n",
    "\n",
    "\\[\n",
    "f(x) = \\frac{1}{\\sigma \\sqrt{2\\pi}} \\exp\\left( -\\frac{(x - \\mu)^2}{2\\sigma^2} \\right)\n",
    "\\]\n",
    "\n",
    "Onde:\n",
    "- \\( \\mu \\) é a média da distribuição,\n",
    "- \\( \\sigma \\) é o desvio padrão,\n",
    "- \\( x \\) é a variável aleatória."
   ]
  },
  {
   "cell_type": "code",
   "execution_count": null,
   "id": "e9e1e8c3",
   "metadata": {},
   "outputs": [],
   "source": []
  }
 ],
 "metadata": {
  "kernelspec": {
   "display_name": "Python 3",
   "language": "python",
   "name": "python3"
  },
  "language_info": {
   "codemirror_mode": {
    "name": "ipython",
    "version": 3
   },
   "file_extension": ".py",
   "mimetype": "text/x-python",
   "name": "python",
   "nbconvert_exporter": "python",
   "pygments_lexer": "ipython3",
   "version": "3.9.5"
  }
 },
 "nbformat": 4,
 "nbformat_minor": 5
}
