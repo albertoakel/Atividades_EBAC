{
  "nbformat": 4,
  "nbformat_minor": 0,
  "metadata": {
    "colab": {
      "provenance": [],
      "authorship_tag": "ABX9TyOaoO/asqE9xCbXx7Uc34wO",
      "include_colab_link": true
    },
    "kernelspec": {
      "name": "python3",
      "display_name": "Python 3"
    },
    "language_info": {
      "name": "python"
    }
  },
  "cells": [
    {
      "cell_type": "markdown",
      "metadata": {
        "id": "view-in-github",
        "colab_type": "text"
      },
      "source": [
        "<a href=\"https://colab.research.google.com/github/albertoakel/Atividades_EBAC/blob/master/notebook/Teste_de_hipotese_exemplos.ipynb\" target=\"_parent\"><img src=\"https://colab.research.google.com/assets/colab-badge.svg\" alt=\"Open In Colab\"/></a>"
      ]
    },
    {
      "cell_type": "markdown",
      "source": [
        " # Teste t de Student\n",
        " A distribuição t de Student é usada quando o tamanho da amostra é pequeno (n < 30) e o desvio padrão populacional é desconhecido.\n",
        "\n",
        "\n",
        "**Contexto:**\\\n",
        "Suponha que você tenha uma amostra de notas de alunos em uma prova e queira testar se a média das notas é significativamente diferente de 7.0 (um valor de referência).\n",
        "\n",
        "**Definir as hipóteses:**\n",
        "*   $H_o$: A média das notas é igual a 7.0 (hipótese nula)\n",
        "*   $H_1$A média das notas é diferente de 7.0 (hipótese alternativa).\n",
        "\n",
        "**Coletar os dados:** \\\n",
        "notas = [6.5, 7.2, 6.8, 7.5, 6.9, 7.1, 6.7, 7.4, 6.6, 7.3]\n",
        "\n",
        "**Calcular**:\n",
        "\n",
        "*   Média das amostras($\\bar{x}$)\n",
        "*   Desvio Padrão das amostras (s) \\\n",
        "Assim, podemos avaliar o valor de teste-t:\n",
        "$$t=\\frac{( \\bar{x}-\\mu_o)\\sqrt{\\nu}}{s}$$\n",
        "onde $\\nu$ graus de liberdade($\\nu=n-1$). calculando a média, desvio podemos calcular o valor de t, assim: \\\n",
        "$\\bar{x}$ = 7.0 \\\n",
        "$s$ = 0.316 \\\n",
        "Finalmente: $t = 0$"
      ],
      "metadata": {
        "id": "vIlQF_wkaUz6"
      }
    },
    {
      "cell_type": "code",
      "source": [
        "import numpy as np\n",
        "import math as ma\n",
        "import matplotlib.pyplot as plt\n",
        "import seaborn as sns\n",
        "import pandas as pd\n",
        "from scipy import stats\n",
        "from IPython.display import display, Math\n",
        "from scipy import integrate\n",
        "from scipy.stats import norm\n",
        "\n",
        "\n",
        "#1)-As médias das notas é significamente diferente de 7?\n",
        "#Teste t de Student\n",
        "#Ho as notas tem média 7\n",
        "#Ha as notas são diferente de 7\n",
        "notas=[6.5, 7.2, 6.8, 7.5, 6.9, 7.1, 6.7, 7.4, 6.6, 7.3];\n",
        "muo=7\n",
        "ho=7\n",
        "#calcular média e desvio das amostas\n",
        "x=np.mean(notas)\n",
        "s=np.std(notas)\n",
        "t=(x-ho)/(s/np.sqrt(len(notas)))\n",
        "\n",
        "print('Média:',x)\n",
        "print('Desvio padrão:',s)\n",
        "print('teste-t:',t)"
      ],
      "metadata": {
        "id": "d4tQRdfkFkIE",
        "colab": {
          "base_uri": "https://localhost:8080/"
        },
        "outputId": "5da615c3-3752-41f7-c5f4-c7663af9e114"
      },
      "execution_count": 39,
      "outputs": [
        {
          "output_type": "stream",
          "name": "stdout",
          "text": [
            "Média: 7.0\n",
            "Desvio padrão: 0.33166247903554\n",
            "t: 0.0\n"
          ]
        }
      ]
    },
    {
      "cell_type": "markdown",
      "source": [
        "\n",
        "### Cálculo valor-P\n",
        "**Passos** \\\n",
        "1) Para um teste bicaudal o valor-p é definido por:\n",
        "$$P_{valor}= 2P(T>|t|)$$\n",
        "Assim, como nosso valor t=0, chegamos que $P_{valor}= 2P(T>0)$.\n",
        "Nosso primeiro calculo aqui é encontrar a probabilidade acumulada até o valor de t, assim encontrar $P(T <)$. Matematicamente estamos falando de uma expressão do tipo:\n",
        "$$S(t)=\\sum_{i=1}^{t} f(x_i)$$\n",
        "\n",
        "Onde f(x) é nossa distribuição( seja ela qual for) e S(t) é nossa distribuição acumulada até o valor t definido.Nada tao complicado.\n",
        "\n",
        "Em python a operação é bem simples, podemos usar o recurso de soma acumulada *np.cumsum* em nossa distribuição e encontrar nossa soma acumulada até o valor\n",
        "t=0. o código abaixo exemplifica esta tarefa.\n",
        "```\n",
        "y=norm.pdf(x,0,1)   # distribuição normal\n",
        "c=np.cumsum(y)      \n",
        "c=c/max(c)          # para normalizar os valores entre 0-1.\n",
        "id=np.where(x>=t)   # para encontrar o indice de x que correspondente\n",
        "temp=id[0][0]\n",
        "print(c[temp])      #para imprimir o valor de C(t).\n",
        "```\n",
        "O exercicio vale a pena para entendimento dos processos, porém aqui faremos de forma mais objetiva e adotaremos alguns pacotes do módulo **scipy.stats, como norm.cdf que executa exatamente a mesma coisa**."
      ],
      "metadata": {
        "id": "ml0cAnssWage"
      }
    },
    {
      "cell_type": "code",
      "source": [
        "x = np.linspace(-4,4,100)\n",
        "y=norm.pdf(x,0,1);\n",
        "\n",
        "c=norm.cdf(x,0,1)\n",
        "y_cdf = norm.cdf(t)\n",
        "\n",
        "fig, ax = plt.subplots(1, 2, figsize=(10, 4))\n",
        "\n",
        "ax[0].plot(x,y,'r-');\n",
        "ax[0].set_title('Distribuição de probabilidade')\n",
        "ax[0].vlines(x=t,ymin=0,ymax=norm.pdf(t,0,1),color='gray',linestyles='dashed',\n",
        "     label=\"mean: {:.1f}\".format(t))\n",
        "\n",
        "ax[0].set_ylim(0, max(y)*1.01)\n",
        "ax[0].set_xlim(-4,4)\n",
        "condicao = (x <= 0) & (y <= norm.pdf(t,0,1))\n",
        "ax[0].fill_between(x, y,where=condicao,alpha=0.4);\n",
        "ax[0].set_xlabel('fig 1')\n",
        "\n",
        "\n",
        "ax[1].plot(x,c,'r-');\n",
        "ax[1].set_title('Distribuição acumulada')\n",
        "ax[1].vlines(x=t,ymin=0,ymax=y_cdf,color='gray',linestyles='dashed',\n",
        "     label=\"mean: {:.1f}\".format(t))\n",
        "ax[1].hlines(y=y_cdf,xmin=-4,xmax=t,color='gray',linestyles='dashed',\n",
        "     label=\"mean: {:.1f}\".format(t))\n",
        "ax[1].set_ylim(0, max(c)*1.01)\n",
        "ax[1].set_xlim(-4,4)\n",
        "#preenchimento da região\n",
        "ax[1].fill_between(x, c,where=c <= y_cdf,alpha=0.4);\n",
        "ax[1].set_xlabel('fig 2')\n",
        "\n"
      ],
      "metadata": {
        "colab": {
          "base_uri": "https://localhost:8080/",
          "height": 427
        },
        "id": "ETNXiE1vIG8E",
        "outputId": "3cfce9fb-6a16-4174-ba4f-a32398f20c34"
      },
      "execution_count": 37,
      "outputs": [
        {
          "output_type": "execute_result",
          "data": {
            "text/plain": [
              "Text(0.5, 0, 'fig 2')"
            ]
          },
          "metadata": {},
          "execution_count": 37
        },
        {
          "output_type": "display_data",
          "data": {
            "text/plain": [
              "<Figure size 1000x400 with 2 Axes>"
            ],
            "image/png": "[encoded data removed]"
          },
          "metadata": {}
        }
      ]
    },
    {
      "cell_type": "markdown",
      "source": [
        "Nas duas figuras observamos o comportamento"
      ],
      "metadata": {
        "id": "mmT6kICqGZe_"
      }
    },
    {
      "cell_type": "code",
      "execution_count": null,
      "metadata": {
        "colab": {
          "base_uri": "https://localhost:8080/"
        },
        "id": "orG7-krsaJYt",
        "outputId": "b3ef9abc-cd68-440d-ff79-1ef3e01a0829"
      },
      "outputs": [
        {
          "output_type": "stream",
          "name": "stdout",
          "text": [
            "Estatística t: -0.28284271247461795\n",
            "Valor-p: 0.7844779352140983\n",
            "Como o valor-p é maior que 0,05, não rejeitamos a hipótese nula\n"
          ]
        }
      ],
      "source": [
        "import numpy as np\n",
        "import math as ma\n",
        "import matplotlib.pyplot as plt\n",
        "import seaborn as sns\n",
        "import pandas as pd\n",
        "from scipy import stats\n",
        "from IPython.display import display, Math\n",
        "from scipy import integrate\n",
        "\n",
        "\n",
        "#Exemplo1. notas\n",
        "#1)-As médias das notas é significamente diferente de 7?\n",
        "#2) Ho=media das notas 7( mu)\n",
        "#  H1 média é diferente de 7\n",
        "#3)\n",
        "notas = [6.5, 7.2, 6.8, 7.5, 6.9, 7.1, 6.7, 7.4, 6.6]\n",
        "ho=7\n",
        "\n",
        "\n",
        "#4)\n",
        "t=(np.mean(notas)-ho)/np.std(notas)/np.sqrt(len(notas))\n",
        "\n",
        "#5) P-valor. 3 situações\n",
        "\n",
        "# bicaudal mu diferente ho   -- pvalue=2P(T>|t|) %nosso caso. pvalue=2P(T>0)) P=0\n",
        "# a direira mu > h0          -- pvalue=P(T>t)\n",
        "# a esquerda mu < ho         -- pvalue=P(T<t)\n",
        "\n",
        "resultado = stats.ttest_1samp(notas, ho)\n",
        "\n",
        "print(\"Estatística t:\", resultado.statistic)\n",
        "print(\"Valor-p:\", resultado.pvalue)\n",
        "print('Como o valor-p é maior que 0,05, não rejeitamos a hipótese nula')\n",
        "\n",
        "#Estatística t: Mede quantos desvios padrão a média da amostra está distante do valor de referência.\n",
        "#Como o valor-p é maior que 0,05, não rejeitamos a hipótese nula.\n",
        "#Conclusão: Não há evidências suficientes para afirmar que a média das notas é diferente de 7.0."
      ]
    },
    {
      "cell_type": "code",
      "source": [
        "#Exemplo3\n",
        "#Da página 83 de Dalgaard [R267] , suponha que a ingestão diária\n",
        "#de energia para 11 mulheres em Kj seja:\n",
        "\n",
        "ingestao  =  np . array ([ 5260. ,  5470 ,  5640 ,  6180 ,  6390 ,  6515 ,\n",
        "                          6805 ,  7515 , 7515 ,  8230 ,  8770 ])\n",
        "\n",
        "ho=7725\n",
        "med=np.mean(ingestao)\n",
        "std=np.std(ingestao,ddof=1)\n",
        "n=len(ingestao)\n",
        "gl=len(ingestao)-1\n",
        "s = np.random.standard_t(gl, size=10000) #distribuição\n",
        "t = (np.mean(ingestao)-ho)/(ingestao.std(ddof=0)/np.sqrt(len(ingestao)))\n",
        "p_value=np.sum(s<t) / float(len(s))\n",
        "\n",
        "print('p-value',p_value)\n",
        "resultado = stats.ttest_1samp(ingestao, ho)\n",
        "print(\"Estatística t:\", resultado.statistic)\n",
        "print(\"Valor-p:\", resultado.pvalue)\n",
        "print('Como o valor-p é menor que 0,05, rejeitamos a hipótese nula')\n",
        "print('Como o valor-p é menor que 0,05, rejeitamos a hipótese nula')\n",
        "\n"
      ],
      "metadata": {
        "colab": {
          "base_uri": "https://localhost:8080/"
        },
        "id": "O-EsL3zd1xE-",
        "outputId": "6ba0385d-efe8-44b8-eab3-8fe03f7302ec"
      },
      "execution_count": null,
      "outputs": [
        {
          "output_type": "stream",
          "name": "stdout",
          "text": [
            "p-value 0.0072\n",
            "Estatística t: -2.8207540608310193\n",
            "Valor-p: 0.018137235176105812\n",
            "Como o valor-p é menor que 0,05, rejeitamos a hipótese nula\n"
          ]
        }
      ]
    },
    {
      "cell_type": "code",
      "source": [
        "#Exemplo1 com n>500\n",
        "np.random.seed(42)  # Para reproducibilidade\n",
        "n=1000\n",
        "notas = np.random.normal(7,1, size=n) # 1000 notas com média 7 e desvio padrão 1\n",
        "\n",
        "# Valor de referência\n",
        "ho = 7.0\n",
        "\n",
        "# Realizar o teste t para uma amostra\n",
        "resultado = stats.ttest_1samp(notas, ho)\n",
        "\n",
        "# Exibir os resultados\n",
        "print('t-student----------------------------------------------------------------')\n",
        "print(\"Estatística t:\", resultado.statistic)\n",
        "print(\"Valor-p:\", resultado.pvalue)\n",
        "\n",
        "# Interpretação\n",
        "alpha = 0.05  # Nível de significância\n",
        "if resultado.pvalue < alpha:\n",
        "    print(\"Rejeitamos a hipótese nula (H0). A média das notas é diferente de 7.0.\")\n",
        "else:\n",
        "    print(\"Não rejeitamos a hipótese nula (H0). Não há evidências de que a média das notas seja diferente de 7.0.\")\n",
        "#USANDO TESTE Z, quando N grande\n",
        "\n",
        "import numpy as np\n",
        "from scipy import stats\n",
        "\n",
        "# Desvio padrão populacional (conhecido)\n",
        "std = 1.0\n",
        "\n",
        "# Tamanho da amostra\n",
        "n = len(notas)\n",
        "\n",
        "# Calcular a estatística Z\n",
        "media_amostra = np.mean(notas)\n",
        "z = (media_amostra - ho) / (std / np.sqrt(n))\n",
        "\n",
        "# Calcular o valor-p (teste bicaudal)\n",
        "p_value = 2 * (1 - stats.norm.cdf(abs(z)))\n",
        "#Calcular o valor-p (teste unicaudal à esquerda)\n",
        "#p_value = norm.cdf(z)  # CDF da distribuição normal padrão\n",
        "#Calcular o valor-p (teste unicaudal à esquerda)\n",
        "#p_value = 1 - norm.cdf(z)\n",
        "\n",
        "# Exibir os resultados\n",
        "print('Z-test--------------------------------------------------------')\n",
        "\n",
        "print(\"Estatística Z:\", z)\n",
        "print(\"Valor-p:\", p_value)\n",
        "\n",
        "# Interpretação\n",
        "alpha = 0.05  # Nível de significância\n",
        "if p_value < alpha:\n",
        "    print(\"Rejeitamos a hipótese nula (H0). A média das notas é diferente de 7.0.\")\n",
        "else:\n",
        "    print(\"Não rejeitamos a hipótese nula (H0). Não há evidências de que a média das notas seja diferente de 7.0.\")\n",
        "\n",
        "\n",
        "\n"
      ],
      "metadata": {
        "colab": {
          "base_uri": "https://localhost:8080/"
        },
        "id": "C3fs_kHi9dcB",
        "outputId": "cbb81438-616a-4cd3-ad34-c9b9adeb8900"
      },
      "execution_count": null,
      "outputs": [
        {
          "output_type": "stream",
          "name": "stdout",
          "text": [
            "t-student----------------------------------------------------------------\n",
            "Estatística t: 0.6243089585093\n",
            "Valor-p: 0.5325672436623152\n",
            "Não rejeitamos a hipótese nula (H0). Não há evidências de que a média das notas seja diferente de 7.0.\n",
            "Z-test--------------------------------------------------------\n",
            "Estatística Z: 0.6113332825206605\n",
            "Valor-p: 0.5409789613993481\n",
            "Não rejeitamos a hipótese nula (H0). Não há evidências de que a média das notas seja diferente de 7.0.\n"
          ]
        }
      ]
    },
    {
      "cell_type": "code",
      "source": [
        "import numpy as np\n",
        "from scipy import stats\n",
        "from scipy.stats import norm\n",
        "\n",
        "def teste_hipotese(amostra, valor_referencia, desvio_padrao_populacional=None, hipotese_alternativa='diferente'):\n",
        "    \"\"\"\n",
        "    Realiza um teste de hipótese (Z-test ou t-test) com base na hipótese alternativa fornecida.\n",
        "\n",
        "    Parâmetros:\n",
        "        amostra (array-like): A amostra de dados.\n",
        "        valor_referencia (float): O valor de referência para a hipótese nula (H0).\n",
        "        desvio_padrao_populacional (float, opcional): O desvio padrão populacional (σ). Se não for fornecido, será usado o t-test.\n",
        "        hipotese_alternativa (str): A hipótese alternativa. Pode ser 'maior', 'menor' ou 'diferente'.\n",
        "\n",
        "    Retorna:\n",
        "        None (os resultados são impressos diretamente).\n",
        "    \"\"\"\n",
        "    # Tamanho da amostra\n",
        "    n = len(amostra)\n",
        "\n",
        "    # Média da amostra\n",
        "    media_amostra = np.mean(amostra)\n",
        "\n",
        "    # Verificar se o teste é Z ou t\n",
        "    if desvio_padrao_populacional is not None:\n",
        "        # Teste Z\n",
        "        print(\"Usando o teste Z (desvio padrão populacional conhecido).\")\n",
        "        estatistica = (media_amostra - valor_referencia) / (desvio_padrao_populacional / np.sqrt(n))\n",
        "        distribuição = norm  # Distribuição normal padrão\n",
        "    else:\n",
        "        # Teste t\n",
        "        print(\"Usando o teste t (desvio padrão populacional desconhecido).\")\n",
        "        desvio_padrao_amostra = np.std(amostra, ddof=1)  # Desvio padrão amostral\n",
        "        estatistica = (media_amostra - valor_referencia) / (desvio_padrao_amostra / np.sqrt(n))\n",
        "        distribuição = stats.t(df=n-1)  # Distribuição t de Student\n",
        "\n",
        "    # Calcular o valor-p com base na hipótese alternativa\n",
        "    if hipotese_alternativa == 'maior':\n",
        "        p_value = 1 - distribuição.cdf(estatistica)  # Teste unicaudal à direita\n",
        "        tipo_teste = \"unicaudal à direita\"\n",
        "    elif hipotese_alternativa == 'menor':\n",
        "        p_value = distribuição.cdf(estatistica)  # Teste unicaudal à esquerda\n",
        "        tipo_teste = \"unicaudal à esquerda\"\n",
        "    elif hipotese_alternativa == 'diferente':\n",
        "        p_value = 2 * (1 - distribuição.cdf(abs(estatistica)))  # Teste bicaudal\n",
        "        tipo_teste = \"bicaudal\"\n",
        "    else:\n",
        "        raise ValueError(\"Hipótese alternativa inválida. Use 'maior', 'menor' ou 'diferente'.\")\n",
        "\n",
        "    # Exibir os resultados\n",
        "    print(f\"\\nMédia da amostra: {media_amostra:.2f}\")\n",
        "    print(f\"Estatística do teste: {estatistica:.2f}\")\n",
        "    print(f\"Valor-p ({tipo_teste}): {p_value:.4f}\")\n",
        "\n",
        "    # Interpretação\n",
        "    alpha = 0.05  # Nível de significância\n",
        "    if p_value < alpha:\n",
        "        print(f\"Rejeitamos a hipótese nula (H0). A média da amostra é significativamente {hipotese_alternativa} que {valor_referencia}.\")\n",
        "    else:\n",
        "        print(f\"Não rejeitamos a hipótese nula (H0). Não há evidências de que a média da amostra seja {hipotese_alternativa} que {valor_referencia}.\")\n",
        "\n",
        "\n",
        "# Exemplo de uso\n",
        "np.random.seed(42)  # Para reproducibilidade\n",
        "notas = np.random.normal(7.0, 1.0, size=1000)  # 1000 notas com média 7.2 e desvio padrão 1\n",
        "\n",
        "# # Teste 1: Verificar se a média é maior que 7.0 (unicaudal à direita)\n",
        "# print(\"\\nTeste 1: Média maior que 7.0\")\n",
        "# teste_hipotese(notas, valor_referencia=7.0, desvio_padrao_populacional=1.0, hipotese_alternativa='maior')\n",
        "\n",
        "# # Teste 2: Verificar se a média é menor que 7.0 (unicaudal à esquerda)\n",
        "# print(\"\\nTeste 2: Média menor que 7.0\")\n",
        "# teste_hipotese(notas, valor_referencia=7.0, desvio_padrao_populacional=1.0, hipotese_alternativa='menor')\n",
        "\n",
        "# Teste 3: Verificar se a média é diferente de 7.0 (bicaudal)\n",
        "print(\"\\nTeste 3: Média diferente de 7.0\")\n",
        "teste_hipotese(notas, valor_referencia=7.0, desvio_padrao_populacional=1.0, hipotese_alternativa='diferente')"
      ],
      "metadata": {
        "colab": {
          "base_uri": "https://localhost:8080/"
        },
        "id": "oOGZngMYCAQU",
        "outputId": "4e42d758-9c22-427a-af75-e7b7190eef0e"
      },
      "execution_count": null,
      "outputs": [
        {
          "output_type": "stream",
          "name": "stdout",
          "text": [
            "\n",
            "Teste 3: Média diferente de 7.0\n",
            "Usando o teste Z (desvio padrão populacional conhecido).\n",
            "\n",
            "Média da amostra: 7.02\n",
            "Estatística do teste: 0.61\n",
            "Valor-p (bicaudal): 0.5410\n",
            "Não rejeitamos a hipótese nula (H0). Não há evidências de que a média da amostra seja diferente que 7.0.\n"
          ]
        }
      ]
    },
    {
      "cell_type": "code",
      "source": [
        "# c=np.cumsum(y)\n",
        "# c=c/max(c)\n",
        "# id=np.where(x>=0.95)\n",
        "# p=id[0][0]\n",
        "# #print('cumsum   0.95:',c[p])\n",
        "# #print('norm.cdf 0.95:',norm.cdf(0.95))\n",
        "\n",
        "# plt.plot(x,norm.cdf(x))\n",
        "\n",
        "# plt.plot(x,c,'--r')\n",
        "# plt.grid()\n",
        "\n",
        "\n",
        "# x = np.linspace(-3, 3, 1000)\n",
        "# mu=0\n",
        "# sig=1\n",
        "# k=1/(sig*np.sqrt(2*ma.pi))\n",
        "# Y=k*np.exp(-0.5*((x-mu)/sig)**2)\n",
        "# C=np.cumsum(Y)\n",
        "# C=C/max(C)\n",
        "# plt.plot(x,C,'+g',alpha=0.1)\n",
        "\n",
        "# id=np.where(x>=0.95)\n",
        "# P=id[0][0]\n",
        "# print('cumsum   0.95:',c[p])\n",
        "# print('norm.cdf 0.95:',norm.cdf(0.95))\n",
        "# print('CUMSUM   0.95:',C[P])\n"
      ],
      "metadata": {
        "id": "7HHY2YOsWRYy"
      },
      "execution_count": null,
      "outputs": []
    }
  ]
}