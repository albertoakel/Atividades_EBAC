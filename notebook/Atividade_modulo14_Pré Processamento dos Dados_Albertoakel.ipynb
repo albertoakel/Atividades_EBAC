{
 "cells": [
  {
   "cell_type": "markdown",
   "metadata": {
    "id": "oRsiqY067PIY"
   },
   "source": [
    "# **Exercício**\n",
    "## M14- Fundamentos da Descoberta de Dados Pré Processamento dos Dados - A primeira etapa Pré Modelagem"
   ]
  },
  {
   "cell_type": "markdown",
   "metadata": {
    "id": "z_xy2WNB7Zil"
   },
   "source": [
    "Para nossa atividade usaremos uma base de churn também, porém essa base não diz respeito a serviços bancários e sim serviços de internet, telefone e tv - Telecomunicação.\n",
    "\n",
    "Vamos realizar aqui as etapas de limpeza e tratamento de dados vistos durante a aula, porém aplicados a essa base nova.\n",
    "Legenda dos dados:\n",
    "\n",
    "*   **CustomerID** : Esse é o ID único de cada cliente nosso da rede de produtos de telecomunicação.\n",
    "\n",
    "*   **Genero** : O genero dos nossos clientes.\n",
    "\n",
    "*   **Idoso** : Se nosso cliente tem acima de 60 anos ou não. (Sim = 1 | Não = 0)\n",
    "\n",
    "*   **Casado** : Se nosso cliente é casado ou não.\n",
    "\n",
    "*   **Dependents** : Se cliente tem dependentes.\n",
    "\n",
    "*   **Tempo_como_Cliente** : Tempo em meses que nosso cliente está com a nossa empresa.\n",
    "\n",
    "*   **PhoneService** : Se ele contratou serviço telefônico com a nossa empresa.\n",
    "\n",
    "*   **Servico_Internet** : Qual o tipo de serviço de internet contratado.\n",
    "\n",
    "*   **Servico_Seguranca** : Se ele contratou serviço de segurança com a nossa empresa.\n",
    "\n",
    "*   **Suporte_Tecnico** : Se já acionou o suporte técnico.\n",
    "\n",
    "*   **StreamingTV** : Se ele contratou serviço de streaming para TV.\n",
    "\n",
    "*   **Tipo_Contrato** : Qual o tipo de contrato dos nossos clientes, se era mensal, anual etc.\n",
    "\n",
    "*   **Tipo_Contrato** : Qual o tipo de contrato dos nossos clientes, se era mensal, anual etc.\n",
    "\n",
    "*   **PaymentMethod** : Forma de Pagamento.\n",
    "\n",
    "*   **Pagamento_Mensal** : Quanto o cliente pagava mensalmente.\n",
    "\n",
    "*   **Total_Pago** : Total já pago pelo cliente para nossa companhia.\n",
    "\n",
    "*   **Churn** : Nossa coluna mais importante, se nosso cliente nos abandonou ou não.\n",
    "\n",
    "### **Objetivos**\n",
    "#### 1 - Carregue a base, verifique se os tipos de dados estão de acordo com cada coluna e caso não estejam realize a transformação dos tipos de dados.\n",
    "#### 2 - Esse exercício faremos por etapas:\n",
    "A) Verifique se temos colunas com dados faltantes e traga a % dos dados faltantes por coluna.\\\n",
    "B) Exclua nessa etapa as linhas das colunas com dados faltantes que você analisar que esse método é o ideal. Justifique o motivo de estar excluindo essas linhas.\\\n",
    "C) Nessa etapa substitua pela média, mediana ou moda as linhas das colunas com valores faltantes que você analisou e entendeu que esse era o melhor método. Não se esqueça de justificar sua escolha.\n",
    "#### 3 - Verifique se encontramos valores digitados incorretamente, ou com letras maiusculas ou minusculas, ou até mesmo mesmos valores porém escritos de forma dirente e corrija.\n",
    "#### [EXTRA] 4 - Caso deseje, para manter um padrão na sua base, renomeie as colunas ou deixand"
   ]
  },
  {
   "cell_type": "code",
   "execution_count": 139,
   "metadata": {
    "id": "JT5cIPR07GqI"
   },
   "outputs": [],
   "source": [
    "import seaborn as sns\n",
    "import matplotlib.pyplot as plt\n",
    "import pandas as pd\n"
   ]
  },
  {
   "cell_type": "code",
   "execution_count": 47,
   "metadata": {
    "colab": {
     "base_uri": "https://localhost:8080/",
     "height": 556
    },
    "id": "YpQybbwr76nX",
    "outputId": "a91f3127-9300-4604-9411-e0820215a03b"
   },
   "outputs": [
    {
     "data": {
      "text/html": [
       "<div>\n",
       "<style scoped>\n",
       "    .dataframe tbody tr th:only-of-type {\n",
       "        vertical-align: middle;\n",
       "    }\n",
       "\n",
       "    .dataframe tbody tr th {\n",
       "        vertical-align: top;\n",
       "    }\n",
       "\n",
       "    .dataframe thead th {\n",
       "        text-align: right;\n",
       "    }\n",
       "</style>\n",
       "<table border=\"1\" class=\"dataframe\">\n",
       "  <thead>\n",
       "    <tr style=\"text-align: right;\">\n",
       "      <th></th>\n",
       "      <th>customerID</th>\n",
       "      <th>Genero</th>\n",
       "      <th>Idoso</th>\n",
       "      <th>Casado</th>\n",
       "      <th>Dependents</th>\n",
       "      <th>Tempo_como_Cliente</th>\n",
       "      <th>PhoneService</th>\n",
       "      <th>Servico_Internet</th>\n",
       "      <th>Servico_Seguranca</th>\n",
       "      <th>Suporte_Tecnico</th>\n",
       "      <th>StreamingTV</th>\n",
       "      <th>Tipo_Contrato</th>\n",
       "      <th>PaymentMethod</th>\n",
       "      <th>Pagamento_Mensal</th>\n",
       "      <th>Total_Pago</th>\n",
       "      <th>Churn</th>\n",
       "    </tr>\n",
       "  </thead>\n",
       "  <tbody>\n",
       "    <tr>\n",
       "      <th>0</th>\n",
       "      <td>7590-VHVEG</td>\n",
       "      <td>Female</td>\n",
       "      <td>0</td>\n",
       "      <td>Yes</td>\n",
       "      <td>No</td>\n",
       "      <td>1</td>\n",
       "      <td>No</td>\n",
       "      <td>DSL</td>\n",
       "      <td>No</td>\n",
       "      <td>No</td>\n",
       "      <td>No</td>\n",
       "      <td>Month-to-month</td>\n",
       "      <td>Electronic check</td>\n",
       "      <td>29.85</td>\n",
       "      <td>29.85</td>\n",
       "      <td>No</td>\n",
       "    </tr>\n",
       "    <tr>\n",
       "      <th>1</th>\n",
       "      <td>5575-GNVDE</td>\n",
       "      <td>Male</td>\n",
       "      <td>0</td>\n",
       "      <td>No</td>\n",
       "      <td>No</td>\n",
       "      <td>34</td>\n",
       "      <td>Yes</td>\n",
       "      <td>DSL</td>\n",
       "      <td>Yes</td>\n",
       "      <td>No</td>\n",
       "      <td>No</td>\n",
       "      <td>One year</td>\n",
       "      <td>Mailed check</td>\n",
       "      <td>56.95</td>\n",
       "      <td>1889.50</td>\n",
       "      <td>No</td>\n",
       "    </tr>\n",
       "    <tr>\n",
       "      <th>2</th>\n",
       "      <td>3668-QPYBK</td>\n",
       "      <td>Male</td>\n",
       "      <td>0</td>\n",
       "      <td>No</td>\n",
       "      <td>No</td>\n",
       "      <td>2</td>\n",
       "      <td>Yes</td>\n",
       "      <td>DSL</td>\n",
       "      <td>Yes</td>\n",
       "      <td>No</td>\n",
       "      <td>No</td>\n",
       "      <td>Month-to-month</td>\n",
       "      <td>Mailed check</td>\n",
       "      <td>53.85</td>\n",
       "      <td>108.15</td>\n",
       "      <td>Yes</td>\n",
       "    </tr>\n",
       "    <tr>\n",
       "      <th>3</th>\n",
       "      <td>7795-CFOCW</td>\n",
       "      <td>Male</td>\n",
       "      <td>0</td>\n",
       "      <td>No</td>\n",
       "      <td>No</td>\n",
       "      <td>45</td>\n",
       "      <td>No</td>\n",
       "      <td>DSL</td>\n",
       "      <td>Yes</td>\n",
       "      <td>Yes</td>\n",
       "      <td>No</td>\n",
       "      <td>One year</td>\n",
       "      <td>Bank transfer (automatic)</td>\n",
       "      <td>NaN</td>\n",
       "      <td>1840.75</td>\n",
       "      <td>No</td>\n",
       "    </tr>\n",
       "    <tr>\n",
       "      <th>4</th>\n",
       "      <td>9237-HQITU</td>\n",
       "      <td>NaN</td>\n",
       "      <td>0</td>\n",
       "      <td>No</td>\n",
       "      <td>No</td>\n",
       "      <td>2</td>\n",
       "      <td>Yes</td>\n",
       "      <td>Fiber optic</td>\n",
       "      <td>No</td>\n",
       "      <td>No</td>\n",
       "      <td>No</td>\n",
       "      <td>Month-to-month</td>\n",
       "      <td>Electronic check</td>\n",
       "      <td>NaN</td>\n",
       "      <td>151.65</td>\n",
       "      <td>Yes</td>\n",
       "    </tr>\n",
       "    <tr>\n",
       "      <th>...</th>\n",
       "      <td>...</td>\n",
       "      <td>...</td>\n",
       "      <td>...</td>\n",
       "      <td>...</td>\n",
       "      <td>...</td>\n",
       "      <td>...</td>\n",
       "      <td>...</td>\n",
       "      <td>...</td>\n",
       "      <td>...</td>\n",
       "      <td>...</td>\n",
       "      <td>...</td>\n",
       "      <td>...</td>\n",
       "      <td>...</td>\n",
       "      <td>...</td>\n",
       "      <td>...</td>\n",
       "      <td>...</td>\n",
       "    </tr>\n",
       "    <tr>\n",
       "      <th>2495</th>\n",
       "      <td>6188-UXBBR</td>\n",
       "      <td>Female</td>\n",
       "      <td>0</td>\n",
       "      <td>Yes</td>\n",
       "      <td>No</td>\n",
       "      <td>38</td>\n",
       "      <td>Yes</td>\n",
       "      <td>No</td>\n",
       "      <td>No internet service</td>\n",
       "      <td>No internet service</td>\n",
       "      <td>No internet service</td>\n",
       "      <td>One year</td>\n",
       "      <td>Credit card (automatic)</td>\n",
       "      <td>20.25</td>\n",
       "      <td>814.75</td>\n",
       "      <td>No</td>\n",
       "    </tr>\n",
       "    <tr>\n",
       "      <th>2496</th>\n",
       "      <td>2333-KWEWW</td>\n",
       "      <td>Male</td>\n",
       "      <td>0</td>\n",
       "      <td>No</td>\n",
       "      <td>No</td>\n",
       "      <td>18</td>\n",
       "      <td>Yes</td>\n",
       "      <td>No</td>\n",
       "      <td>No internet service</td>\n",
       "      <td>No internet service</td>\n",
       "      <td>No internet service</td>\n",
       "      <td>Two year</td>\n",
       "      <td>Credit card (automatic)</td>\n",
       "      <td>20.05</td>\n",
       "      <td>388.60</td>\n",
       "      <td>No</td>\n",
       "    </tr>\n",
       "    <tr>\n",
       "      <th>2497</th>\n",
       "      <td>5702-SKUOB</td>\n",
       "      <td>Female</td>\n",
       "      <td>0</td>\n",
       "      <td>Yes</td>\n",
       "      <td>No</td>\n",
       "      <td>4</td>\n",
       "      <td>Yes</td>\n",
       "      <td>No</td>\n",
       "      <td>No internet service</td>\n",
       "      <td>No internet service</td>\n",
       "      <td>No internet service</td>\n",
       "      <td>Month-to-month</td>\n",
       "      <td>Mailed check</td>\n",
       "      <td>19.60</td>\n",
       "      <td>93.45</td>\n",
       "      <td>No</td>\n",
       "    </tr>\n",
       "    <tr>\n",
       "      <th>2498</th>\n",
       "      <td>1134-YWTYF</td>\n",
       "      <td>Male</td>\n",
       "      <td>0</td>\n",
       "      <td>Yes</td>\n",
       "      <td>No</td>\n",
       "      <td>27</td>\n",
       "      <td>Yes</td>\n",
       "      <td>DSL</td>\n",
       "      <td>No</td>\n",
       "      <td>Yes</td>\n",
       "      <td>No</td>\n",
       "      <td>Month-to-month</td>\n",
       "      <td>Electronic check</td>\n",
       "      <td>53.80</td>\n",
       "      <td>1389.85</td>\n",
       "      <td>No</td>\n",
       "    </tr>\n",
       "    <tr>\n",
       "      <th>2499</th>\n",
       "      <td>6061-GWWAV</td>\n",
       "      <td>Male</td>\n",
       "      <td>0</td>\n",
       "      <td>No</td>\n",
       "      <td>Yes</td>\n",
       "      <td>41</td>\n",
       "      <td>Yes</td>\n",
       "      <td>DSL</td>\n",
       "      <td>Yes</td>\n",
       "      <td>No</td>\n",
       "      <td>Yes</td>\n",
       "      <td>One year</td>\n",
       "      <td>Mailed check</td>\n",
       "      <td>70.20</td>\n",
       "      <td>2894.55</td>\n",
       "      <td>No</td>\n",
       "    </tr>\n",
       "  </tbody>\n",
       "</table>\n",
       "<p>2500 rows × 16 columns</p>\n",
       "</div>"
      ],
      "text/plain": [
       "      customerID  Genero  Idoso Casado Dependents  Tempo_como_Cliente  \\\n",
       "0     7590-VHVEG  Female      0    Yes         No                   1   \n",
       "1     5575-GNVDE    Male      0     No         No                  34   \n",
       "2     3668-QPYBK    Male      0     No         No                   2   \n",
       "3     7795-CFOCW    Male      0     No         No                  45   \n",
       "4     9237-HQITU     NaN      0     No         No                   2   \n",
       "...          ...     ...    ...    ...        ...                 ...   \n",
       "2495  6188-UXBBR  Female      0    Yes         No                  38   \n",
       "2496  2333-KWEWW    Male      0     No         No                  18   \n",
       "2497  5702-SKUOB  Female      0    Yes         No                   4   \n",
       "2498  1134-YWTYF    Male      0    Yes         No                  27   \n",
       "2499  6061-GWWAV    Male      0     No        Yes                  41   \n",
       "\n",
       "     PhoneService Servico_Internet    Servico_Seguranca      Suporte_Tecnico  \\\n",
       "0              No              DSL                   No                   No   \n",
       "1             Yes              DSL                  Yes                   No   \n",
       "2             Yes              DSL                  Yes                   No   \n",
       "3              No              DSL                  Yes                  Yes   \n",
       "4             Yes      Fiber optic                   No                   No   \n",
       "...           ...              ...                  ...                  ...   \n",
       "2495          Yes               No  No internet service  No internet service   \n",
       "2496          Yes               No  No internet service  No internet service   \n",
       "2497          Yes               No  No internet service  No internet service   \n",
       "2498          Yes              DSL                   No                  Yes   \n",
       "2499          Yes              DSL                  Yes                   No   \n",
       "\n",
       "              StreamingTV   Tipo_Contrato              PaymentMethod  \\\n",
       "0                      No  Month-to-month           Electronic check   \n",
       "1                      No        One year               Mailed check   \n",
       "2                      No  Month-to-month               Mailed check   \n",
       "3                      No        One year  Bank transfer (automatic)   \n",
       "4                      No  Month-to-month           Electronic check   \n",
       "...                   ...             ...                        ...   \n",
       "2495  No internet service        One year    Credit card (automatic)   \n",
       "2496  No internet service        Two year    Credit card (automatic)   \n",
       "2497  No internet service  Month-to-month               Mailed check   \n",
       "2498                   No  Month-to-month           Electronic check   \n",
       "2499                  Yes        One year               Mailed check   \n",
       "\n",
       "      Pagamento_Mensal  Total_Pago Churn  \n",
       "0                29.85       29.85    No  \n",
       "1                56.95     1889.50    No  \n",
       "2                53.85      108.15   Yes  \n",
       "3                  NaN     1840.75    No  \n",
       "4                  NaN      151.65   Yes  \n",
       "...                ...         ...   ...  \n",
       "2495             20.25      814.75    No  \n",
       "2496             20.05      388.60    No  \n",
       "2497             19.60       93.45    No  \n",
       "2498             53.80     1389.85    No  \n",
       "2499             70.20     2894.55    No  \n",
       "\n",
       "[2500 rows x 16 columns]"
      ]
     },
     "execution_count": 47,
     "metadata": {},
     "output_type": "execute_result"
    }
   ],
   "source": [
    "#Lembrem-se sempre de alterar a importação dos dados de acordo com o diretório de vocês.\n",
    "df = pd.read_csv(\"CHURN_TELECON_MOD08_TAREFA.csv\", delimiter=';')\n",
    "df"
   ]
  },
  {
   "cell_type": "markdown",
   "metadata": {
    "id": "2aZL5edn-Sxy"
   },
   "source": [
    "#### 1 - Carregue a base, verifique se os tipos de dados estão de acordo com cada coluna e caso não estejam realize a transformação dos tipos de dados.\n",
    "Executando a linha abaixa temos uma visão ampla dos conjunto de dados.\n",
    "```python\n",
    "df.info()\n",
    "```\n",
    "\n",
    "| Column               | Non-Null Count | Dtype   |\n",
    "|----------------------|---------------|-------- |\n",
    "| customerID          | 2500 non-null  | object  |\n",
    "| Genero              | 2488 non-null  | object  |\n",
    "| Idoso               | 2500 non-null  | int64   |\n",
    "| Casado              | 2500 non-null  | object  |\n",
    "| Dependents          | 2500 non-null  | object  |\n",
    "| Tempo_como_Cliente  | 2500 non-null  | int64   |\n",
    "| PhoneService        | 1018 non-null  | object  |\n",
    "| Servico_Internet    | 2500 non-null  | object  |\n",
    "| Servico_Seguranca   | 2500 non-null  | object  |\n",
    "| Suporte_Tecnico     | 2500 non-null  | object  |\n",
    "| StreamingTV         | 2500 non-null  | object  |\n",
    "| Tipo_Contrato       | 2500 non-null  | object  |\n",
    "| PaymentMethod       | 2500 non-null  | object  |\n",
    "| Pagamento_Mensal    | 2175 non-null  | float64 |\n",
    "| Total_Pago          | 2500 non-null  | float64 |\n",
    "| Churn               | 2495 non-null  | object  |\n",
    "\n",
    "* O dataset possui 16 colunas e 2500 linhas. Quatro colunas possuem valores nulos, com as seguintes quantidades:**Genero (12)**, **PhoneService (1482)**, **Pagamento_Mensal (325)** e **Churn (5)**.\n",
    "* 7 Colunas podem são classificadas como objeto Yes/No e podem ser modificadas para inteiros 1/0. São elas: **Casado**, **Dependents**, **PhoneService**, **Servico_Seguranca**, **Suporte_Tecnico**, **StreamingTV**, **Churn**.\n",
    "* As colunas **Serviço_seguranca**, **Suporte_tecnico**, **StremingTV** são dependentes da coluna Servico_internet. Desta forma, não se aplica no caso de não contratação( zero ) de serviço de internet \n",
    "\n",
    "Para conversão de todas respostas 'yes' e No em 1 e zero:\n",
    "```python\n",
    "df = df.replace({'Yes': 1, 'No': 0})\n",
    "```\n",
    "Assim, os valores foram convertidos para inteiros, exceto nas seguintes colunas: 1)**Serviço_Segurança**, **Suporte_Técnico** e **StreamingTV**: mantiveram alguns valores do tipo string devido a respostas condicionadas à contratação de internet.2) **PhoneService** e **Churn**: convertidos para float64 devido à presença de valores nulos."
   ]
  },
  {
   "cell_type": "code",
   "execution_count": 140,
   "metadata": {},
   "outputs": [],
   "source": [
    "df = df.replace({'Yes': 1, 'No': 0})"
   ]
  },
  {
   "cell_type": "markdown",
   "metadata": {
    "id": "cu4kjiXn_w9t"
   },
   "source": [
    "# 2 - Esse exercício faremos por etapas:\n",
    "A) Verifique se temos colunas com dados faltantes e traga a % dos dados faltantes por coluna.\\\n",
    "A tabela 1 abaixo apresenta os valores faltantes\n",
    "\n",
    "| Categoria            | Percentual (%) |\n",
    "|----------------------|---------------|\n",
    "| customerID          | 0.00          |\n",
    "| Genero              | 0.48          |\n",
    "| Idoso               | 0.00          |\n",
    "| Casado              | 0.00          |\n",
    "| Dependents          | 0.00          |\n",
    "| Tempo_como_Cliente  | 0.00          |\n",
    "| PhoneService        | 59.28         |\n",
    "| Servico_Internet    | 0.00          |\n",
    "| Servico_Seguranca   | 0.00          |\n",
    "| Suporte_Tecnico     | 0.00          |\n",
    "| StreamingTV         | 0.00          |\n",
    "| Tipo_Contrato       | 0.00          |\n",
    "| PaymentMethod       | 0.00          |\n",
    "| Pagamento_Mensal    | 13.00         |\n",
    "| Total_Pago         | 0.00          |\n",
    "| Churn               | 0.20          |\n",
    "**tabela 1**: percentual de dados dados nulos."
   ]
  },
  {
   "cell_type": "code",
   "execution_count": 141,
   "metadata": {
    "id": "nNYLgakRDPr2"
   },
   "outputs": [
    {
     "name": "stdout",
     "output_type": "stream",
     "text": [
      "Categoria            Percentual(%)\n",
      "----------------------------------\n",
      "customerID             0.000000\n",
      "Genero                 0.000000\n",
      "Idoso                  0.000000\n",
      "Casado                 0.000000\n",
      "Dependents             0.000000\n",
      "Tempo_como_Cliente     0.000000\n",
      "PhoneService          59.565916\n",
      "Servico_Internet       0.000000\n",
      "Servico_Seguranca      0.000000\n",
      "Suporte_Tecnico        0.000000\n",
      "StreamingTV            0.000000\n",
      "Tipo_Contrato          0.000000\n",
      "PaymentMethod          0.000000\n",
      "Pagamento_Mensal      12.580386\n",
      "Total_Pago             0.000000\n",
      "Churn                  0.000000\n",
      "dtype: float64\n"
     ]
    }
   ],
   "source": [
    "#valores percentuais de dados faltantes\n",
    "print(f\"{'Categoria':<20} {'Percentual(%)':>5}\")\n",
    "print(\"-\" * 34)\n",
    "print((df.isnull().sum()/len(df))*100)"
   ]
  },
  {
   "cell_type": "markdown",
   "metadata": {
    "id": "HzzZHCVO_8b9"
   },
   "source": [
    "B) Exclua nessa etapa as linhas das colunas com dados faltantes que você analisar que esse método é o ideal. Justifique o motivo de estar excluindo essas linhas.\n",
    "Como critério de exclusão, vamos considerar que colunas os quais possuem um percentual de dados nulos inferior a 3% podem ter essas linha automaticamente excluidas. Assim podemos excluir as linhas nulas em **churn** e **genero** com o comando:\n",
    "\n",
    "```python\n",
    "df.dropna(subset=['Churn', 'Genero'],inplace=True)\n",
    "```\n",
    "\n"
   ]
  },
  {
   "cell_type": "code",
   "execution_count": 142,
   "metadata": {
    "id": "bDZTgNy8ECwu"
   },
   "outputs": [
    {
     "name": "stdout",
     "output_type": "stream",
     "text": [
      "customerID               0\n",
      "Genero                   0\n",
      "Idoso                    0\n",
      "Casado                   0\n",
      "Dependents               0\n",
      "Tempo_como_Cliente       0\n",
      "PhoneService          1482\n",
      "Servico_Internet         0\n",
      "Servico_Seguranca        0\n",
      "Suporte_Tecnico          0\n",
      "StreamingTV              0\n",
      "Tipo_Contrato            0\n",
      "PaymentMethod            0\n",
      "Pagamento_Mensal       313\n",
      "Total_Pago               0\n",
      "Churn                    0\n",
      "dtype: int64\n"
     ]
    }
   ],
   "source": [
    "#removendo linhas nulas em churn e Genero\n",
    "df.dropna(subset=['Churn', 'Genero'],inplace=True)\n",
    "#verificando\n",
    "print(df.isnull().sum())"
   ]
  },
  {
   "cell_type": "markdown",
   "metadata": {
    "id": "plAEzGoMAP16"
   },
   "source": [
    "C) Nessa etapa substitua pela média, mediana ou moda as linhas das colunas com valores faltantes que você analisou e entendeu que esse era o melhor método. Não se esqueça de justificar sua escolha.\\\n",
    "**Dica variáveis numéricas:** Não se esqueça de verificar a distrbuição dos dados, média e mediana.\\\n",
    "**Dica variáveis categóricas:** Caso precise substituir uma variável categórica utilize um gráfico de barras para verificar a que mais aparece e utilizar ela na substituição.\n",
    "Ou você pode optar por excluir a coluna, mas justifique sua escolha.\n",
    "\n",
    "Caso opte por substituir você pode utilizar a função fillna:\n",
    "df['SUACOLUNA'].fillna(\"VALOR QUE SUBSTITUIRA O NULO\", inplace=True)\n",
    "Ela funcionará como a replace."
   ]
  },
  {
   "cell_type": "code",
   "execution_count": 178,
   "metadata": {
    "id": "f9xdpik_ERw1"
   },
   "outputs": [
    {
     "data": {
      "image/png": "[encoded data removed]",
      "text/plain": [
       "<Figure size 640x480 with 1 Axes>"
      ]
     },
     "metadata": {},
     "output_type": "display_data"
    },
    {
     "name": "stdout",
     "output_type": "stream",
     "text": [
      "count    2175.000000\n",
      "mean       65.607563\n",
      "std        29.931520\n",
      "min        18.400000\n",
      "25%        39.500000\n",
      "50%        71.450000\n",
      "75%        90.250000\n",
      "max       118.650000\n",
      "Name: Pagamento_Mensal, dtype: float64\n"
     ]
    },
    {
     "data": {
      "image/png": "[encoded data removed]",
      "text/plain": [
       "<Figure size 640x480 with 1 Axes>"
      ]
     },
     "metadata": {},
     "output_type": "display_data"
    },
    {
     "name": "stdout",
     "output_type": "stream",
     "text": [
      "count    1751.000000\n",
      "mean       76.482010\n",
      "std        22.478041\n",
      "min        25.050000\n",
      "25%        60.150000\n",
      "50%        79.950000\n",
      "75%        94.300000\n",
      "max       118.650000\n",
      "Name: Pagamento_Mensal, dtype: float64\n"
     ]
    }
   ],
   "source": [
    "df['Churn'] = df['Churn'].astype(int)\n",
    "#print(df['Pagamento_Mensal'].describe())\n",
    "\n",
    "# plt.figure(figsize=(8, 6))\n",
    "# sns.boxplot(data=df, y='Pagamento_Mensal', color='skyblue')\n",
    "# plt.title('Boxplot da Coluna de Salário')\n",
    "# plt.ylabel('Salario_Anual')\n",
    "# plt.show()\n",
    "\n",
    "\n",
    "# sns.set_style('darkgrid')\n",
    "# plt.figure(figsize=(10, 6))\n",
    "# sns.histplot(x='Pagamento_Mensal',data=df, bins=20)\n",
    "# plt.title('Histograma da Coluna de Salário')\n",
    "# plt.xlabel('Salario_Anual')\n",
    "# plt.ylabel('Contagem')\n",
    "# plt.show()\n",
    "\n",
    "\n",
    "plt.hist(df['Pagamento_Mensal'], bins=20)\n",
    "plt.title('Distribuição de Pagamento Mensal')\n",
    "plt.xlabel('Pagamento Mensal')\n",
    "plt.ylabel('Frequência')\n",
    "plt.show()\n",
    "print(df['Pagamento_Mensal'].describe())\n",
    "df2 = df[df['Pagamento_Mensal'] > 25]\n",
    "\n",
    "plt.hist(df2['Pagamento_Mensal'], bins=20)\n",
    "plt.title('Distribuição de Pagamento Mensal')\n",
    "plt.xlabel('Pagamento Mensal')\n",
    "plt.ylabel('Frequência')\n",
    "plt.show()\n",
    "print(df2['Pagamento_Mensal'].describe())\n"
   ]
  },
  {
   "cell_type": "code",
   "execution_count": null,
   "metadata": {},
   "outputs": [],
   "source": [
    "print(df['PhoneService'].value_counts())\n",
    "\n",
    "df_phone0 = df[df['PhoneService'] ==0] #86\n",
    "df_phone1 = df[df['PhoneService'] ==1] \n",
    "\n",
    "len(df)\n",
    "#df_phone0"
   ]
  },
  {
   "cell_type": "markdown",
   "metadata": {
    "id": "KyM7bzIWAevH"
   },
   "source": [
    "# 3 - Verifique se encontramos valores digitados incorretamente, ou com letras maiusculas ou minusculas, ou até mesmo mesmos valores porém escritos de forma dirente e corrija."
   ]
  },
  {
   "cell_type": "code",
   "execution_count": null,
   "metadata": {
    "id": "pBLJpzXXGTcq"
   },
   "outputs": [],
   "source": [
    "#seu código aqui"
   ]
  },
  {
   "cell_type": "markdown",
   "metadata": {
    "id": "C-2vJktpA0r7"
   },
   "source": [
    "# [EXTRA] 4 - Caso deseje, para manter um padrão na sua base, renomeie as colunas ou deixand"
   ]
  }
 ],
 "metadata": {
  "colab": {
   "provenance": []
  },
  "kernelspec": {
   "display_name": "Python 3 (ipykernel)",
   "language": "python",
   "name": "python3"
  },
  "language_info": {
   "codemirror_mode": {
    "name": "ipython",
    "version": 3
   },
   "file_extension": ".py",
   "mimetype": "text/x-python",
   "name": "python",
   "nbconvert_exporter": "python",
   "pygments_lexer": "ipython3",
   "version": "3.9.5"
  }
 },
 "nbformat": 4,
 "nbformat_minor": 4
}
