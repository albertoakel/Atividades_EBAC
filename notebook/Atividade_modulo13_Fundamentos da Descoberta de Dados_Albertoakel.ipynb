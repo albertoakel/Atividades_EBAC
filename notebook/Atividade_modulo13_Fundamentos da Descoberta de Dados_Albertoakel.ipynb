{
 "cells": [
  {
   "cell_type": "markdown",
   "metadata": {
    "id": "VOTu7U3Mvxzq"
   },
   "source": [
    "# **ATIVIDADE Projeto 3 **\n",
    "### M12- Fundamentos da Descoberta de Dados"
   ]
  },
  {
   "cell_type": "markdown",
   "metadata": {
    "id": "YJgKJ7Nxwtw2"
   },
   "source": [
    "Nesse projeto trabalharemos com a base de dados de produtos de um supermercado do Chile. A ideia é que vocês apliquem os conceitos estatísticos vistos no último módulo, mais os conceitos de visualizações de dados através de gráficos e finalizem publicando no seu github!\n",
    "Os campos do nosso dataframe são:\n",
    "\n",
    "**Title:** Nome do produto. \\\n",
    "**Marca:** A marca do produto.\\\n",
    "**Preco_Normal:** O preço em que o produto costuma ser vendido quando não há desconto.\\\n",
    "**Preco_Desconto:** O preço vendido após o desconto ser aplicado.\\\n",
    "**Preco_Anterior:** Preço em que era comercializado o produto antes do desconto aplicado.\\\n",
    "**Desconto:** Total de desconto aplicado.\n",
    "\n",
    "As colunas que aparecem com valores 0 são para os produtos onde não tivemos descontos aplicados.\n",
    "\n",
    "### **Objetivos**\n",
    "#### 1 - Encontre a média e mediana dos preços por categoria de produto.\n",
    " Identifique as categorias que parecem ter um valor de média abaixo ou acima da mediana. \\\n",
    "#### 2 - Calcule o desvio padrão por categoria de produto. \n",
    "Qual o comportamento da média e mediana nas categorias com maior desvio? \\\n",
    "\n",
    "#### 3 - Plot um boxplot da distribuição do Preco_Normal para a categoria que você identificou que tem o maior desvio padrão. Como é a distribuição desses dados segundo o boxplot? Você identifica muitos outliers?\n",
    "\n",
    "#### 4 - Plote um gráfico de barras onde temos a média de descontos por categoria.\n",
    "\n",
    "#### 5 - Plote um gráfico de mapa interativo agrupando os dados por categoria, marca e trazendo a média de desconto."
   ]
  },
  {
   "cell_type": "code",
   "execution_count": 1,
   "metadata": {
    "id": "OTdTnbzUwE2X"
   },
   "outputs": [],
   "source": [
    "\n",
    "import pandas as pd\n",
    "import matplotlib.pyplot as plt\n",
    "import plotly.express as px"
   ]
  },
  {
   "cell_type": "code",
   "execution_count": 77,
   "metadata": {
    "colab": {
     "base_uri": "https://localhost:8080/",
     "height": 363
    },
    "id": "bRBFyVB5wlny",
    "outputId": "cde5190b-fecf-48f8-e98c-5ec7e469bcfb"
   },
   "outputs": [
    {
     "name": "stdout",
     "output_type": "stream",
     "text": [
      "title             object\n",
      "Marca             object\n",
      "Preco_Normal       int64\n",
      "Preco_Desconto     int64\n",
      "Preco_Anterior     int64\n",
      "Desconto           int64\n",
      "Categoria         object\n",
      "dtype: object\n"
     ]
    }
   ],
   "source": [
    "df = pd.read_csv(\"MODULO7_PROJETOFINAL_BASE_SUPERMERCADO.csv\", delimiter=',')\n",
    "#dimensão 1107x7\n",
    "#valores unicos 1065\n",
    "\n",
    "print(df.dtypes)\n",
    "#df.head(25)\n",
    "#df.info()"
   ]
  },
  {
   "cell_type": "code",
   "execution_count": 4,
   "metadata": {},
   "outputs": [
    {
     "data": {
      "text/html": [
       "<div>\n",
       "<style scoped>\n",
       "    .dataframe tbody tr th:only-of-type {\n",
       "        vertical-align: middle;\n",
       "    }\n",
       "\n",
       "    .dataframe tbody tr th {\n",
       "        vertical-align: top;\n",
       "    }\n",
       "\n",
       "    .dataframe thead th {\n",
       "        text-align: right;\n",
       "    }\n",
       "</style>\n",
       "<table border=\"1\" class=\"dataframe\">\n",
       "  <thead>\n",
       "    <tr style=\"text-align: right;\">\n",
       "      <th></th>\n",
       "      <th>title</th>\n",
       "      <th>Marca</th>\n",
       "      <th>Preco_Normal</th>\n",
       "      <th>Preco_Desconto</th>\n",
       "      <th>Preco_Anterior</th>\n",
       "      <th>Desconto</th>\n",
       "      <th>Categoria</th>\n",
       "    </tr>\n",
       "  </thead>\n",
       "  <tbody>\n",
       "    <tr>\n",
       "      <th>218</th>\n",
       "      <td>Ñoquis de papa 500 g</td>\n",
       "      <td>Cuisine &amp; Co</td>\n",
       "      <td>3190</td>\n",
       "      <td>0</td>\n",
       "      <td>0</td>\n",
       "      <td>0</td>\n",
       "      <td>comidas-preparadas</td>\n",
       "    </tr>\n",
       "    <tr>\n",
       "      <th>219</th>\n",
       "      <td>Ñoquis Tricolor 500 g</td>\n",
       "      <td>Cuisine &amp; Co</td>\n",
       "      <td>3190</td>\n",
       "      <td>0</td>\n",
       "      <td>0</td>\n",
       "      <td>0</td>\n",
       "      <td>comidas-preparadas</td>\n",
       "    </tr>\n",
       "    <tr>\n",
       "      <th>138</th>\n",
       "      <td>Ñoquis Capresse 400 g</td>\n",
       "      <td>Cuisine &amp; Co</td>\n",
       "      <td>4190</td>\n",
       "      <td>0</td>\n",
       "      <td>0</td>\n",
       "      <td>0</td>\n",
       "      <td>comidas-preparadas</td>\n",
       "    </tr>\n",
       "    <tr>\n",
       "      <th>664</th>\n",
       "      <td>Zapallo italiano un,</td>\n",
       "      <td>Frutas Y Verduras Propias</td>\n",
       "      <td>690</td>\n",
       "      <td>0</td>\n",
       "      <td>0</td>\n",
       "      <td>0</td>\n",
       "      <td>verduras</td>\n",
       "    </tr>\n",
       "    <tr>\n",
       "      <th>348</th>\n",
       "      <td>Zapallo europeo un,</td>\n",
       "      <td>Frutas Y Verduras Propias</td>\n",
       "      <td>2190</td>\n",
       "      <td>0</td>\n",
       "      <td>0</td>\n",
       "      <td>0</td>\n",
       "      <td>verduras</td>\n",
       "    </tr>\n",
       "  </tbody>\n",
       "</table>\n",
       "</div>"
      ],
      "text/plain": [
       "                     title                      Marca  Preco_Normal  \\\n",
       "218   Ñoquis de papa 500 g               Cuisine & Co          3190   \n",
       "219  Ñoquis Tricolor 500 g               Cuisine & Co          3190   \n",
       "138  Ñoquis Capresse 400 g               Cuisine & Co          4190   \n",
       "664   Zapallo italiano un,  Frutas Y Verduras Propias           690   \n",
       "348    Zapallo europeo un,  Frutas Y Verduras Propias          2190   \n",
       "\n",
       "     Preco_Desconto  Preco_Anterior  Desconto           Categoria  \n",
       "218               0               0         0  comidas-preparadas  \n",
       "219               0               0         0  comidas-preparadas  \n",
       "138               0               0         0  comidas-preparadas  \n",
       "664               0               0         0            verduras  \n",
       "348               0               0         0            verduras  "
      ]
     },
     "execution_count": 4,
     "metadata": {},
     "output_type": "execute_result"
    }
   ],
   "source": [
    "df_sort = df.sort_values(by='title', ascending=False)\n",
    "df_sort.head(5)"
   ]
  },
  {
   "cell_type": "markdown",
   "metadata": {},
   "source": [
    "#### Encontre a média e mediana dos preços por categoria de produto."
   ]
  },
  {
   "cell_type": "code",
   "execution_count": 99,
   "metadata": {},
   "outputs": [
    {
     "data": {
      "text/html": [
       "<div>\n",
       "<style scoped>\n",
       "    .dataframe tbody tr th:only-of-type {\n",
       "        vertical-align: middle;\n",
       "    }\n",
       "\n",
       "    .dataframe tbody tr th {\n",
       "        vertical-align: top;\n",
       "    }\n",
       "\n",
       "    .dataframe thead th {\n",
       "        text-align: right;\n",
       "    }\n",
       "</style>\n",
       "<table border=\"1\" class=\"dataframe\">\n",
       "  <thead>\n",
       "    <tr style=\"text-align: right;\">\n",
       "      <th></th>\n",
       "      <th>media</th>\n",
       "      <th>mediana</th>\n",
       "      <th>desvio</th>\n",
       "    </tr>\n",
       "    <tr>\n",
       "      <th>Categoria</th>\n",
       "      <th></th>\n",
       "      <th></th>\n",
       "      <th></th>\n",
       "    </tr>\n",
       "  </thead>\n",
       "  <tbody>\n",
       "    <tr>\n",
       "      <th>belleza-y-cuidado-personal</th>\n",
       "      <td>1783.556485</td>\n",
       "      <td>1569</td>\n",
       "      <td>2210.041719</td>\n",
       "    </tr>\n",
       "    <tr>\n",
       "      <th>comidas-preparadas</th>\n",
       "      <td>3095.043478</td>\n",
       "      <td>3290</td>\n",
       "      <td>2019.911428</td>\n",
       "    </tr>\n",
       "    <tr>\n",
       "      <th>congelados</th>\n",
       "      <td>2108.042553</td>\n",
       "      <td>1519</td>\n",
       "      <td>2111.539896</td>\n",
       "    </tr>\n",
       "    <tr>\n",
       "      <th>frutas</th>\n",
       "      <td>1724.473684</td>\n",
       "      <td>1195</td>\n",
       "      <td>1639.151114</td>\n",
       "    </tr>\n",
       "    <tr>\n",
       "      <th>instantaneos-y-sopas</th>\n",
       "      <td>765.491228</td>\n",
       "      <td>439</td>\n",
       "      <td>1170.232869</td>\n",
       "    </tr>\n",
       "    <tr>\n",
       "      <th>lacteos</th>\n",
       "      <td>2385.219239</td>\n",
       "      <td>989</td>\n",
       "      <td>3925.816164</td>\n",
       "    </tr>\n",
       "    <tr>\n",
       "      <th>verduras</th>\n",
       "      <td>1343.296875</td>\n",
       "      <td>1180</td>\n",
       "      <td>1012.699625</td>\n",
       "    </tr>\n",
       "  </tbody>\n",
       "</table>\n",
       "</div>"
      ],
      "text/plain": [
       "                                  media  mediana      desvio \n",
       "Categoria                                                    \n",
       "belleza-y-cuidado-personal  1783.556485     1569  2210.041719\n",
       "comidas-preparadas          3095.043478     3290  2019.911428\n",
       "congelados                  2108.042553     1519  2111.539896\n",
       "frutas                      1724.473684     1195  1639.151114\n",
       "instantaneos-y-sopas         765.491228      439  1170.232869\n",
       "lacteos                     2385.219239      989  3925.816164\n",
       "verduras                    1343.296875     1180  1012.699625"
      ]
     },
     "execution_count": 99,
     "metadata": {},
     "output_type": "execute_result"
    }
   ],
   "source": [
    "#Quantas categorias existem\n",
    "n_cat=df['Categoria'].nunique() # 7 categorias\n",
    "L_cat=df['Categoria'].unique()  # \n",
    "\n",
    "md_cat_p =df.groupby('Categoria')['Preco_Normal'].mean()\n",
    "mdn_cat_p=df.groupby('Categoria')['Preco_Normal'].median()\n",
    "std_cat_p=df.groupby('Categoria')['Preco_Normal'].std()\n",
    "\n",
    "resumo_preco = pd.concat([md_cat_p, mdn_cat_p,std_cat_p], axis=1, keys=['media', 'mediana','desvio '])\n",
    "resumo_preco\n",
    "identificar valores de média abaixo ou acima da mediana."
   ]
  },
  {
   "cell_type": "code",
   "execution_count": 181,
   "metadata": {},
   "outputs": [
    {
     "data": {
      "text/plain": [
       "19"
      ]
     },
     "execution_count": 181,
     "metadata": {},
     "output_type": "execute_result"
    },
    {
     "data": {
      "image/png": "[encoded data removed]",
      "text/plain": [
       "<Figure size 720x648 with 2 Axes>"
      ]
     },
     "metadata": {
      "needs_background": "light"
     },
     "output_type": "display_data"
    }
   ],
   "source": [
    "#listagem_de_preços_categorias\n",
    "belleza_cuidado    = df[df['Categoria'] == resumo_preco.index[0]]\n",
    "comidas_preparadas = df[df['Categoria'] == resumo_preco.index[1]]\n",
    "congelados         = df[df['Categoria'] == resumo_preco.index[2]]\n",
    "frutas             = df[df['Categoria'] == resumo_preco.index[3]]\n",
    "instantaneos       = df[df['Categoria'] == resumo_preco.index[4]]\n",
    "lacteos            = df[df['Categoria'] == resumo_preco.index[5]]\n",
    "verduras           = df[df['Categoria'] == resumo_preco.index[6]]\n",
    "\n",
    "\n"
   ]
  },
  {
   "cell_type": "code",
   "execution_count": 96,
   "metadata": {},
   "outputs": [
    {
     "data": {
      "text/plain": [
       "(array([ 9., 23., 21.,  6.,  1.,  1.,  1.,  0.,  1.,  1.]),\n",
       " array([   0.,  585., 1170., 1755., 2340., 2925., 3510., 4095., 4680.,\n",
       "        5265., 5850.]),\n",
       " <BarContainer object of 10 artists>)"
      ]
     },
     "execution_count": 96,
     "metadata": {},
     "output_type": "execute_result"
    },
    {
     "data": {
      "image/png": "[encoded data removed]",
      "text/plain": [
       "<Figure size 432x288 with 1 Axes>"
      ]
     },
     "metadata": {
      "needs_background": "light"
     },
     "output_type": "display_data"
    }
   ],
   "source": [
    "plt.hist(verduras['Preco_Normal'])"
   ]
  },
  {
   "cell_type": "code",
   "execution_count": null,
   "metadata": {},
   "outputs": [],
   "source": []
  }
 ],
 "metadata": {
  "colab": {
   "provenance": []
  },
  "kernelspec": {
   "display_name": "Python 3",
   "language": "python",
   "name": "python3"
  },
  "language_info": {
   "codemirror_mode": {
    "name": "ipython",
    "version": 3
   },
   "file_extension": ".py",
   "mimetype": "text/x-python",
   "name": "python",
   "nbconvert_exporter": "python",
   "pygments_lexer": "ipython3",
   "version": "3.9.5"
  }
 },
 "nbformat": 4,
 "nbformat_minor": 1
}
