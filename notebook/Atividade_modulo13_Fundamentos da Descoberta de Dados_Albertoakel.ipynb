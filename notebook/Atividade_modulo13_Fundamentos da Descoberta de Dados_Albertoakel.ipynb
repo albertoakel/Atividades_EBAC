{
 "cells": [
  {
   "cell_type": "markdown",
   "metadata": {
    "id": "VOTu7U3Mvxzq"
   },
   "source": [
    "# **ATIVIDADE Projeto 3 **\n",
    "### M12- Fundamentos da Descoberta de Dados"
   ]
  },
  {
   "cell_type": "markdown",
   "metadata": {
    "id": "YJgKJ7Nxwtw2"
   },
   "source": [
    "Nesse projeto trabalharemos com a base de dados de produtos de um supermercado do Chile. A ideia é que vocês apliquem os conceitos estatísticos vistos no último módulo, mais os conceitos de visualizações de dados através de gráficos e finalizem publicando no seu github!\n",
    "Os campos do nosso dataframe são:\n",
    "\n",
    "**Title:** Nome do produto. \\\n",
    "**Marca:** A marca do produto.\\\n",
    "**Preco_Normal:** O preço em que o produto costuma ser vendido quando não há desconto.\\\n",
    "**Preco_Desconto:** O preço vendido após o desconto ser aplicado.\\\n",
    "**Preco_Anterior:** Preço em que era comercializado o produto antes do desconto aplicado.\\\n",
    "**Desconto:** Total de desconto aplicado.\n",
    "\n",
    "As colunas que aparecem com valores 0 são para os produtos onde não tivemos descontos aplicados.\n",
    "\n",
    "### **Objetivos**\n",
    "#### 1 - Encontre a média e mediana dos preços por categoria de produto.\n",
    " Identifique as categorias que parecem ter um valor de média abaixo ou acima da mediana. \n",
    "#### 2 - Calcule o desvio padrão por categoria de produto. \n",
    "Qual o comportamento da média e mediana nas categorias com maior desvio? \n",
    "\n",
    "#### 3 - Plot um boxplot da distribuição do Preco_Normal para a categoria que você identificou que tem o maior desvio padrão. Como é a distribuição desses dados segundo o boxplot? Você identifica muitos outliers?\n",
    "\n",
    "#### 4 - Plote um gráfico de barras onde temos a média de descontos por categoria.\n",
    "\n",
    "#### 5 - Plote um gráfico de mapa interativo agrupando os dados por categoria, marca e trazendo a média de desconto."
   ]
  },
  {
   "cell_type": "code",
   "execution_count": 7,
   "metadata": {
    "id": "OTdTnbzUwE2X"
   },
   "outputs": [],
   "source": [
    "import pandas as pd\n",
    "import numpy as np\n",
    "import matplotlib.pyplot as plt\n",
    "import plotly.express as px\n",
    "df = pd.read_csv(\"MODULO7_PROJETOFINAL_BASE_SUPERMERCADO.csv\", delimiter=',')\n"
   ]
  },
  {
   "cell_type": "code",
   "execution_count": 8,
   "metadata": {
    "colab": {
     "base_uri": "https://localhost:8080/",
     "height": 363
    },
    "id": "bRBFyVB5wlny",
    "outputId": "cde5190b-fecf-48f8-e98c-5ec7e469bcfb"
   },
   "outputs": [
    {
     "name": "stdout",
     "output_type": "stream",
     "text": [
      "title             object\n",
      "Marca             object\n",
      "Preco_Normal       int64\n",
      "Preco_Desconto     int64\n",
      "Preco_Anterior     int64\n",
      "Desconto           int64\n",
      "Categoria         object\n",
      "dtype: object\n"
     ]
    }
   ],
   "source": [
    "#dimensão 1107x7\n",
    "#valores unicos 1065\n",
    "\n",
    "print(df.dtypes)\n",
    "#df.head(25)\n",
    "#df.info()"
   ]
  },
  {
   "cell_type": "code",
   "execution_count": 9,
   "metadata": {
    "editable": true,
    "slideshow": {
     "slide_type": ""
    },
    "tags": []
   },
   "outputs": [
    {
     "data": {
      "text/html": [
       "<div>\n",
       "<style scoped>\n",
       "    .dataframe tbody tr th:only-of-type {\n",
       "        vertical-align: middle;\n",
       "    }\n",
       "\n",
       "    .dataframe tbody tr th {\n",
       "        vertical-align: top;\n",
       "    }\n",
       "\n",
       "    .dataframe thead th {\n",
       "        text-align: right;\n",
       "    }\n",
       "</style>\n",
       "<table border=\"1\" class=\"dataframe\">\n",
       "  <thead>\n",
       "    <tr style=\"text-align: right;\">\n",
       "      <th></th>\n",
       "      <th>title</th>\n",
       "      <th>Marca</th>\n",
       "      <th>Preco_Normal</th>\n",
       "      <th>Preco_Desconto</th>\n",
       "      <th>Preco_Anterior</th>\n",
       "      <th>Desconto</th>\n",
       "      <th>Categoria</th>\n",
       "      <th>Preco_Venda</th>\n",
       "      <th>Preco_Promo</th>\n",
       "    </tr>\n",
       "  </thead>\n",
       "  <tbody>\n",
       "    <tr>\n",
       "      <th>0</th>\n",
       "      <td>Pack 12 un, Leche extra proteína 1 L</td>\n",
       "      <td>Loncoleche</td>\n",
       "      <td>19788</td>\n",
       "      <td>0</td>\n",
       "      <td>0</td>\n",
       "      <td>0</td>\n",
       "      <td>lacteos</td>\n",
       "      <td>19788.0</td>\n",
       "      <td>19788.0</td>\n",
       "    </tr>\n",
       "    <tr>\n",
       "      <th>1</th>\n",
       "      <td>Pack 12 un, Leche chocolate receta original 1 L</td>\n",
       "      <td>Soprole</td>\n",
       "      <td>18228</td>\n",
       "      <td>0</td>\n",
       "      <td>0</td>\n",
       "      <td>0</td>\n",
       "      <td>lacteos</td>\n",
       "      <td>18228.0</td>\n",
       "      <td>18228.0</td>\n",
       "    </tr>\n",
       "    <tr>\n",
       "      <th>2</th>\n",
       "      <td>Pack 12 un, Leche semidescremada chocolate 1 L</td>\n",
       "      <td>Soprole</td>\n",
       "      <td>18228</td>\n",
       "      <td>0</td>\n",
       "      <td>0</td>\n",
       "      <td>0</td>\n",
       "      <td>lacteos</td>\n",
       "      <td>18228.0</td>\n",
       "      <td>18228.0</td>\n",
       "    </tr>\n",
       "    <tr>\n",
       "      <th>3</th>\n",
       "      <td>Pack 12 un, Leche semidescremada frutilla 1 L</td>\n",
       "      <td>Soprole</td>\n",
       "      <td>18228</td>\n",
       "      <td>0</td>\n",
       "      <td>0</td>\n",
       "      <td>0</td>\n",
       "      <td>lacteos</td>\n",
       "      <td>18228.0</td>\n",
       "      <td>18228.0</td>\n",
       "    </tr>\n",
       "    <tr>\n",
       "      <th>4</th>\n",
       "      <td>Pack 12 un, Leche sin lactosa chocolate 1 L</td>\n",
       "      <td>Loncoleche</td>\n",
       "      <td>17988</td>\n",
       "      <td>0</td>\n",
       "      <td>0</td>\n",
       "      <td>0</td>\n",
       "      <td>lacteos</td>\n",
       "      <td>17988.0</td>\n",
       "      <td>17988.0</td>\n",
       "    </tr>\n",
       "    <tr>\n",
       "      <th>...</th>\n",
       "      <td>...</td>\n",
       "      <td>...</td>\n",
       "      <td>...</td>\n",
       "      <td>...</td>\n",
       "      <td>...</td>\n",
       "      <td>...</td>\n",
       "      <td>...</td>\n",
       "      <td>...</td>\n",
       "      <td>...</td>\n",
       "    </tr>\n",
       "    <tr>\n",
       "      <th>1102</th>\n",
       "      <td>Helado bresler pote cassata 2,4l</td>\n",
       "      <td>Bresler</td>\n",
       "      <td>0</td>\n",
       "      <td>4359</td>\n",
       "      <td>5449</td>\n",
       "      <td>1090</td>\n",
       "      <td>congelados</td>\n",
       "      <td>5449.0</td>\n",
       "      <td>4359.0</td>\n",
       "    </tr>\n",
       "    <tr>\n",
       "      <th>1103</th>\n",
       "      <td>Helado Trisabor chocolate lúcuma y manjar 2,4 L</td>\n",
       "      <td>Bresler</td>\n",
       "      <td>0</td>\n",
       "      <td>4359</td>\n",
       "      <td>5449</td>\n",
       "      <td>1090</td>\n",
       "      <td>congelados</td>\n",
       "      <td>5449.0</td>\n",
       "      <td>4359.0</td>\n",
       "    </tr>\n",
       "    <tr>\n",
       "      <th>1104</th>\n",
       "      <td>Shampoo Reconstrucción Completa 400 ml</td>\n",
       "      <td>Dove</td>\n",
       "      <td>0</td>\n",
       "      <td>2690</td>\n",
       "      <td>3849</td>\n",
       "      <td>1159</td>\n",
       "      <td>belleza-y-cuidado-personal</td>\n",
       "      <td>3849.0</td>\n",
       "      <td>2690.0</td>\n",
       "    </tr>\n",
       "    <tr>\n",
       "      <th>1105</th>\n",
       "      <td>Acondicionador Hidratación Intensa 400 ml</td>\n",
       "      <td>Dove</td>\n",
       "      <td>0</td>\n",
       "      <td>2690</td>\n",
       "      <td>3849</td>\n",
       "      <td>1159</td>\n",
       "      <td>belleza-y-cuidado-personal</td>\n",
       "      <td>3849.0</td>\n",
       "      <td>2690.0</td>\n",
       "    </tr>\n",
       "    <tr>\n",
       "      <th>1106</th>\n",
       "      <td>Leche en Polvo Nido Forticrece Sin lactosa 1440g</td>\n",
       "      <td>Nido</td>\n",
       "      <td>0</td>\n",
       "      <td>14550</td>\n",
       "      <td>18899</td>\n",
       "      <td>4349</td>\n",
       "      <td>lacteos</td>\n",
       "      <td>18899.0</td>\n",
       "      <td>14550.0</td>\n",
       "    </tr>\n",
       "  </tbody>\n",
       "</table>\n",
       "<p>1107 rows × 9 columns</p>\n",
       "</div>"
      ],
      "text/plain": [
       "                                                 title       Marca  \\\n",
       "0                 Pack 12 un, Leche extra proteína 1 L  Loncoleche   \n",
       "1      Pack 12 un, Leche chocolate receta original 1 L     Soprole   \n",
       "2       Pack 12 un, Leche semidescremada chocolate 1 L     Soprole   \n",
       "3        Pack 12 un, Leche semidescremada frutilla 1 L     Soprole   \n",
       "4          Pack 12 un, Leche sin lactosa chocolate 1 L  Loncoleche   \n",
       "...                                                ...         ...   \n",
       "1102                  Helado bresler pote cassata 2,4l     Bresler   \n",
       "1103   Helado Trisabor chocolate lúcuma y manjar 2,4 L     Bresler   \n",
       "1104            Shampoo Reconstrucción Completa 400 ml        Dove   \n",
       "1105         Acondicionador Hidratación Intensa 400 ml        Dove   \n",
       "1106  Leche en Polvo Nido Forticrece Sin lactosa 1440g        Nido   \n",
       "\n",
       "      Preco_Normal  Preco_Desconto  Preco_Anterior  Desconto  \\\n",
       "0            19788               0               0         0   \n",
       "1            18228               0               0         0   \n",
       "2            18228               0               0         0   \n",
       "3            18228               0               0         0   \n",
       "4            17988               0               0         0   \n",
       "...            ...             ...             ...       ...   \n",
       "1102             0            4359            5449      1090   \n",
       "1103             0            4359            5449      1090   \n",
       "1104             0            2690            3849      1159   \n",
       "1105             0            2690            3849      1159   \n",
       "1106             0           14550           18899      4349   \n",
       "\n",
       "                       Categoria  Preco_Venda  Preco_Promo  \n",
       "0                        lacteos      19788.0      19788.0  \n",
       "1                        lacteos      18228.0      18228.0  \n",
       "2                        lacteos      18228.0      18228.0  \n",
       "3                        lacteos      18228.0      18228.0  \n",
       "4                        lacteos      17988.0      17988.0  \n",
       "...                          ...          ...          ...  \n",
       "1102                  congelados       5449.0       4359.0  \n",
       "1103                  congelados       5449.0       4359.0  \n",
       "1104  belleza-y-cuidado-personal       3849.0       2690.0  \n",
       "1105  belleza-y-cuidado-personal       3849.0       2690.0  \n",
       "1106                     lacteos      18899.0      14550.0  \n",
       "\n",
       "[1107 rows x 9 columns]"
      ]
     },
     "execution_count": 9,
     "metadata": {},
     "output_type": "execute_result"
    }
   ],
   "source": [
    "#criar categoria preco vendido\n",
    "#preço normal Ou preco com desconto serão incluidas\n",
    "df['Preco_Venda'] = 0.0\n",
    "df['Preco_Promo'] = 0.0\n",
    "\n",
    "for i in df.index:\n",
    "     if df.loc[i,'Preco_Normal'] != 0:\n",
    "         df.loc[i, 'Preco_Venda'] = df.loc[i, 'Preco_Normal']\n",
    "         df.loc[i, 'Preco_Promo'] = df.loc[i, 'Preco_Normal']  \n",
    "     else:\n",
    "         df.loc[i, 'Preco_Venda'] = df.loc[i, 'Preco_Anterior']\n",
    "         df.loc[i, 'Preco_Promo'] = df.loc[i, 'Preco_Desconto']  \n",
    "df"
   ]
  },
  {
   "cell_type": "markdown",
   "metadata": {},
   "source": [
    "#### Média e mediana por categoria\n",
    "1) **Quantas categorias existem ? Como é o comportamento da média e mediana das categorias?**\\\n",
    "   Os dados apresentam um total de 7 categorias. São elas: lacteos, belleza-y-cuidado-personal,congelados,frutas, comidas-preparadas,verduras, instantaneos-y-sopas. Para avaliar os valores de média e mediana, agrupamos os preços em duas categorias devido à presença de descontos. Isso permite uma análise mais precisa do preço de venda dos produtos naquele momento.As duas novas categorias criadas são:\\\n",
    "**Preço_Venda**: composta pelos valores das colunas **Preço_Normal + Preço_Anterior**.\\\n",
    "**Preço_Promo**: composta pelos valores das colunas **Preço_Normal + Preço_Desconto**.\\\n",
    "Essa reorganização foi realizada para evitar a inclusão de valores zero no cálculo das médias e medianas, o que poderia distorcer os resultados. Atribuir um valor zero implicaria que alguns produtos seriam gratuitos, o que não reflete a realidade.\n",
    " \n",
    "Todas as categorias apresentam valores distintos de média e mediana. Isso\n",
    "dá indicativos que a distribuição dos preços nas categorias não segue uma distrubuição normal, ou há outliers no valor dos preços. De fato, ao realizar o calculo de diferença relativa entre os valores de média e mediana, observamos que essa diferênça é de 5% para *comidas-preparadas*( menor diferença encontrada) e 58% para *lacteos*. a tabela resumo de preços apresenta os demais valores."
   ]
  },
  {
   "cell_type": "code",
   "execution_count": 10,
   "metadata": {},
   "outputs": [
    {
     "name": "stdout",
     "output_type": "stream",
     "text": [
      "                                  media  mediana      desvio   diferenca\n",
      "Categoria                                                               \n",
      "belleza-y-cuidado-personal  2359.071130   2090.0  2105.607874   0.114058\n",
      "comidas-preparadas          3433.304348   3640.0  1779.820251   0.000000\n",
      "congelados                  3040.876596   2979.0  1892.202223   0.020348\n",
      "frutas                      1724.473684   1195.0  1639.151114   0.307035\n",
      "instantaneos-y-sopas         765.491228    439.0  1170.232869   0.426512\n",
      "lacteos                     2474.178971   1159.0  3986.180270   0.531562\n",
      "verduras                    1343.296875   1180.0  1012.699625   0.121564\n"
     ]
    }
   ],
   "source": [
    "#Quantas categorias existem\n",
    "n_cat=df['Categoria'].nunique() # 7 categorias\n",
    "L_cat=df['Categoria'].unique()  # \n",
    "\n",
    "#estatisticas_por_categoria = df.groupby(\"Categoria\")[\"Preco_Normal\"].agg([\"mean\", \"median\", \"std\"])\n",
    "#estatisticas_por_categoria\n",
    "\n",
    "md_cat_p =df.groupby('Categoria')['Preco_Venda'].mean()\n",
    "mdn_cat_p=df.groupby('Categoria')['Preco_Venda'].median()\n",
    "std_cat_p=df.groupby('Categoria')['Preco_Venda'].std()\n",
    "\n",
    "resumo_preco = pd.concat([md_cat_p, mdn_cat_p,std_cat_p], axis=1, keys=['media', 'mediana','desvio '])\n",
    "\n",
    "#dif=abs(md_cat_p-mdn_cat_p)\n",
    "dif = []\n",
    "resumo_preco['diferenca']=0.0\n",
    "# Loop sobre os 7 elementos\n",
    "for i in resumo_preco.index:\n",
    "    a=float(resumo_preco.loc[i,'media'] )\n",
    "    b=float(resumo_preco.loc[i,'mediana'])\n",
    "    if a > b:\n",
    "        resumo_preco.loc[i,'diferenca']=abs(a - b) / a\n",
    "        #dif.append(abs(a - b) / a)\n",
    "    else:\n",
    "        resumo_preco.loc[i,'diferenca']=abs(b - b) / a       \n",
    "print(resumo_preco)\n"
   ]
  },
  {
   "cell_type": "code",
   "execution_count": 11,
   "metadata": {},
   "outputs": [
    {
     "name": "stdout",
     "output_type": "stream",
     "text": [
      "                                  media  mediana      desvio   diferenca\n",
      "Categoria                                                               \n",
      "belleza-y-cuidado-personal  2834.882845   2543.0  2118.001508   0.102961\n",
      "comidas-preparadas          3780.478261   3590.0  1635.885064   0.050385\n",
      "congelados                  2996.251064   3059.0  1781.784938   0.000000\n",
      "frutas                      1724.473684   1195.0  1639.151114   0.307035\n",
      "instantaneos-y-sopas         883.105263    459.0  1106.007164   0.480243\n",
      "lacteos                     2564.015660   1279.0  3898.278311   0.501173\n",
      "verduras                    1343.296875   1180.0  1012.699625   0.121564\n"
     ]
    }
   ],
   "source": [
    "#@promocional\n",
    "md_cat_p =df.groupby('Categoria')['Preco_Promo'].mean()\n",
    "mdn_cat_p=df.groupby('Categoria')['Preco_Promo'].median()\n",
    "std_cat_p=df.groupby('Categoria')['Preco_Promo'].std()\n",
    "\n",
    "resumo_preco = pd.concat([md_cat_p, mdn_cat_p,std_cat_p], axis=1, keys=['media', 'mediana','desvio '])\n",
    "\n",
    "#dif=abs(md_cat_p-mdn_cat_p)\n",
    "dif = []\n",
    "resumo_preco['diferenca']=0.0\n",
    "# Loop sobre os 7 elementos\n",
    "for i in resumo_preco.index:\n",
    "    a=float(resumo_preco.loc[i,'media'] )\n",
    "    b=float(resumo_preco.loc[i,'mediana'])\n",
    "    if a > b:\n",
    "        resumo_preco.loc[i,'diferenca']=abs(a - b) / a\n",
    "        #dif.append(abs(a - b) / a)\n",
    "    else:\n",
    "        resumo_preco.loc[i,'diferenca']=abs(b - b) / a       \n",
    "print(resumo_preco)"
   ]
  },
  {
   "cell_type": "code",
   "execution_count": 69,
   "metadata": {},
   "outputs": [],
   "source": [
    "#listagem_de_preços_categorias\n",
    "# belleza_cuidado    = df[df['Categoria'] == resumo_preco.index[0]]\n",
    "# comidas_preparadas = df[df['Categoria'] == resumo_preco.index[1]]\n",
    "# congelados         = df[df['Categoria'] == resumo_preco.index[2]]\n",
    "# frutas             = df[df['Categoria'] == resumo_preco.index[3]]\n",
    "# instantaneos       = df[df['Categoria'] == resumo_preco.index[4]]\n",
    "# lacteos            = df[df['Categoria'] == resumo_preco.index[5]]\n",
    "# verduras           = df[df['Categoria'] == resumo_preco.index[6]]\n",
    "\n",
    "\n"
   ]
  },
  {
   "cell_type": "code",
   "execution_count": 96,
   "metadata": {},
   "outputs": [
    {
     "data": {
      "text/plain": [
       "(array([ 9., 23., 21.,  6.,  1.,  1.,  1.,  0.,  1.,  1.]),\n",
       " array([   0.,  585., 1170., 1755., 2340., 2925., 3510., 4095., 4680.,\n",
       "        5265., 5850.]),\n",
       " <BarContainer object of 10 artists>)"
      ]
     },
     "execution_count": 96,
     "metadata": {},
     "output_type": "execute_result"
    },
    {
     "data": {
      "image/png": "[encoded data removed]",
      "text/plain": [
       "<Figure size 432x288 with 1 Axes>"
      ]
     },
     "metadata": {
      "needs_background": "light"
     },
     "output_type": "display_data"
    }
   ],
   "source": [
    "plt.hist(verduras['Preco_Normal'])"
   ]
  },
  {
   "cell_type": "code",
   "execution_count": 56,
   "metadata": {},
   "outputs": [
    {
     "data": {
      "text/plain": [
       "nan"
      ]
     },
     "execution_count": 56,
     "metadata": {},
     "output_type": "execute_result"
    }
   ],
   "source": [
    "\n"
   ]
  },
  {
   "cell_type": "code",
   "execution_count": null,
   "metadata": {},
   "outputs": [],
   "source": []
  }
 ],
 "metadata": {
  "colab": {
   "provenance": []
  },
  "kernelspec": {
   "display_name": "Python 3 (ipykernel)",
   "language": "python",
   "name": "python3"
  },
  "language_info": {
   "codemirror_mode": {
    "name": "ipython",
    "version": 3
   },
   "file_extension": ".py",
   "mimetype": "text/x-python",
   "name": "python",
   "nbconvert_exporter": "python",
   "pygments_lexer": "ipython3",
   "version": "3.9.5"
  }
 },
 "nbformat": 4,
 "nbformat_minor": 4
}
