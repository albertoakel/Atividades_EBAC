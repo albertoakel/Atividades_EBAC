{
 "cells": [
  {
   "cell_type": "markdown",
   "id": "6e71b5eb-748f-438f-998e-dfae274085c1",
   "metadata": {},
   "source": [
    "### Outros exemplos- Teste estatisticos"
   ]
  },
  {
   "cell_type": "markdown",
   "id": "f1d6510e-1494-4bfe-90fb-56a10f842c96",
   "metadata": {},
   "source": [
    "#### Exemplo 1: Duas amostras\n",
    "O teste t de Student para duas amostras independentes é usado para comparar as médias de dois grupos e determinar se elas são estatisticamente diferentes."
   ]
  },
  {
   "cell_type": "code",
   "execution_count": 39,
   "id": "20743cfc-4969-45fb-989e-8465afb07e72",
   "metadata": {},
   "outputs": [
    {
     "name": "stdout",
     "output_type": "stream",
     "text": [
      "0.3928334579778958\n",
      "Não rejeitamos a hipótese nula (não há diferença significativa entre as média\n"
     ]
    }
   ],
   "source": [
    "import numpy as np\n",
    "from scipy.stats import t as ts\n",
    "\n",
    "from scipy.stats import ttest_ind\n",
    "\n",
    "#H0:As médias das duas amostras são iguais( mu1=mu2)\n",
    "\n",
    "amostra1 = [22, 25, 30, 35, 40, 45, 50]\n",
    "amostra2 = [18, 20, 25, 30, 35, 40, 45]\n",
    "\n",
    "#passo-a-passo\n",
    "X1=np.mean(amostra1)\n",
    "X2=np.mean(amostra2)\n",
    "\n",
    "#calculo variancias\n",
    "var1 = np.var(amostra1, ddof=1)  # ddof=1 para variância amostral\n",
    "var2 = np.var(amostra2, ddof=1)\n",
    "\n",
    "n1=len(amostra1) \n",
    "n2=len(amostra2) \n",
    "# Cálculo do erro padrão\n",
    "SE = np.sqrt(var1 /n1+ var2 /n2)\n",
    "t=(X1-X2)/SE\n",
    "\n",
    "\n",
    "#calculo_pvalor\n",
    "#fórmula de Welch para graus de liberdade\n",
    "df = ((var1/n1 + var2/n2) ** 2) / ((var1/n1) ** 2 / (n1 - 1) + (var2/n2) ** 2 / (n2 - 1))\n",
    "\n",
    "#pvalor=2*ts.cdf(t, df)\n",
    "\n",
    "#pvalor = 2 * (1 - ts.cdf(abs(t), df))\n",
    "\n",
    "print(pvalor)\n",
    "\n",
    "#ou forma simplificada\n",
    "estatistica_t, valor_p = ttest_ind(amostra1, amostra2,equal_var=False)\n",
    "# Interpretação\n",
    "alpha = 0.05\n",
    "if valor_p < alpha:\n",
    "    print(\"Rejeitamos a hipótese nula (há diferença significativa entre as médias).\")\n",
    "else:\n",
    "    print('Não rejeitamos a hipótese nula (não há diferença significativa entre as média')"
   ]
  },
  {
   "cell_type": "code",
   "execution_count": null,
   "id": "23a01252-38ac-4ce4-b12b-85526e3ffa83",
   "metadata": {},
   "outputs": [],
   "source": []
  },
  {
   "cell_type": "code",
   "execution_count": null,
   "id": "5df48d0b-cbb9-4049-b077-cd38ff266d96",
   "metadata": {},
   "outputs": [],
   "source": []
  }
 ],
 "metadata": {
  "kernelspec": {
   "display_name": "Python 3 (ipykernel)",
   "language": "python",
   "name": "python3"
  },
  "language_info": {
   "codemirror_mode": {
    "name": "ipython",
    "version": 3
   },
   "file_extension": ".py",
   "mimetype": "text/x-python",
   "name": "python",
   "nbconvert_exporter": "python",
   "pygments_lexer": "ipython3",
   "version": "3.9.5"
  }
 },
 "nbformat": 4,
 "nbformat_minor": 5
}
